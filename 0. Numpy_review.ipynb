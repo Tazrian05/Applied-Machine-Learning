{
 "cells": [
  {
   "cell_type": "markdown",
   "id": "fb19a209",
   "metadata": {},
   "source": [
    "# Assignment 0"
   ]
  },
  {
   "cell_type": "markdown",
   "id": "70578e9a",
   "metadata": {},
   "source": [
    "### <span style=\"color:chocolate\"> Submission requirements </span>\n",
    "\n",
    "Your work will not be graded if your notebook doesn't include output. In other words, <span style=\"color:red\"> make sure to rerun your notebook before submitting to Gradescope </span> (Note: if you are using Google Colab: go to Edit > Notebook Settings  and uncheck Omit code cell output when saving this notebook, otherwise the output is not printed).\n",
    "\n",
    "Additional points may be deducted if these requirements are not met:\n",
    "    \n",
    "* Comment your code;\n",
    "* Each graph should have a title, labels for each axis, and (if needed) a legend. Each graph should be understandable on its own;\n",
    "* Try and minimize the use of the global namespace (meaning, keep things inside functions).\n",
    "---"
   ]
  },
  {
   "cell_type": "markdown",
   "id": "13a171ed",
   "metadata": {},
   "source": [
    "### Import libraries"
   ]
  },
  {
   "cell_type": "code",
   "execution_count": 723,
   "id": "a64b2988",
   "metadata": {},
   "outputs": [],
   "source": [
    "import numpy as np"
   ]
  },
  {
   "cell_type": "markdown",
   "id": "809e27ae",
   "metadata": {},
   "source": [
    "---\n",
    "### <span style=\"color:chocolate\">Exercise 1:</span> Homogenous data types (10 points)\n",
    "\n",
    "1. Create a numpy array (my_array1) containing only integer values. Print the shape of the array and the type of its elements;\n",
    "2. Create another numpy array (my_array2) containing a mix of integer and string values. Print the shape of the array and the type of its elements. Comment on the type of its elements."
   ]
  },
  {
   "cell_type": "code",
   "execution_count": 724,
   "id": "ae568991",
   "metadata": {},
   "outputs": [
    {
     "name": "stdout",
     "output_type": "stream",
     "text": [
      "[ 1 42 36  2  4]\n",
      "(5,)\n",
      "int32\n",
      "['1' '3' '6' 'Berkeley' '7' 'Data']\n",
      "(6,)\n",
      "<U11\n"
     ]
    },
    {
     "data": {
      "text/plain": [
       "\"my_array2 contains both interger and string data type. \\nWhen NumPy encounters this mix of data types, it assigns the dtype '<U11' to the array, \\nwhich indicates Unicode strings of length up to 11 characters.\\nThe integers are implicitly converted to strings to maintain \\nhomogeneity within the array.\""
      ]
     },
     "execution_count": 724,
     "metadata": {},
     "output_type": "execute_result"
    }
   ],
   "source": [
    "# YOUR CODE HERE\n",
    "my_array1 = np.array([1,42,36,2,4],dtype=int)\n",
    "\n",
    "#Printing array, shape and data type\n",
    "print(my_array1)\n",
    "print(my_array1.shape)\n",
    "print(my_array1.dtype)\n",
    "\n",
    "my_array2=np.array([1,3,6,'Berkeley',7,'Data'])\n",
    "print(my_array2)\n",
    "print(my_array2.shape)\n",
    "print(my_array2.dtype)\n",
    "'''my_array2 contains both interger and string data type. \n",
    "When NumPy encounters this mix of data types, it assigns the dtype '<U11' to the array, \n",
    "which indicates Unicode strings of length up to 11 characters.\n",
    "The integers are implicitly converted to strings to maintain \n",
    "homogeneity within the array.'''"
   ]
  },
  {
   "cell_type": "markdown",
   "id": "dd2832bf",
   "metadata": {},
   "source": [
    "---\n",
    "#### <span style=\"color:chocolate\">Exercise 2:</span> The size attribute (10 points)\n",
    "\n",
    "Create a numpy array (my_array3) and print its shape, size, and data type. What does size represent?"
   ]
  },
  {
   "cell_type": "code",
   "execution_count": 725,
   "id": "cca6b9a0",
   "metadata": {},
   "outputs": [
    {
     "name": "stdout",
     "output_type": "stream",
     "text": [
      "[[1 3 6]\n",
      " [2 4 8]]\n",
      "(2, 3)\n",
      "int32\n",
      "6\n"
     ]
    }
   ],
   "source": [
    "# YOUR CODE HERE\n",
    "my_array3=np.array([[1,3,6],[2,4,8]])\n",
    "\n",
    "print(my_array3)\n",
    "print(my_array3.shape)\n",
    "print(my_array3.dtype)\n",
    "print(my_array3.size)\n",
    "\n",
    "##The size represents the total number of elements in the array"
   ]
  },
  {
   "cell_type": "markdown",
   "id": "6b407fab",
   "metadata": {},
   "source": [
    "---\n",
    "#### <span style=\"color:chocolate\">Exercise 3:</span> Tabular data layout (10 points)"
   ]
  },
  {
   "cell_type": "markdown",
   "id": "dd66e32a",
   "metadata": {},
   "source": [
    "Create a tabular data layout using the numpy method <span style=\"color:chocolate\">np.random.random()</span>, where:\n",
    "* the first input is num_samples, and\n",
    "* the second input is num_features. \n",
    "\n",
    "Print the shape of the array."
   ]
  },
  {
   "cell_type": "code",
   "execution_count": 726,
   "id": "742399c2",
   "metadata": {},
   "outputs": [
    {
     "name": "stdout",
     "output_type": "stream",
     "text": [
      "Shape of tabular data: (100, 17)\n",
      "First few rows of tabular data:\n",
      "[[4.17022005e-01 7.20324493e-01 1.14374817e-04 3.02332573e-01\n",
      "  1.46755891e-01 9.23385948e-02 1.86260211e-01 3.45560727e-01\n",
      "  3.96767474e-01 5.38816734e-01 4.19194514e-01 6.85219500e-01\n",
      "  2.04452250e-01 8.78117436e-01 2.73875932e-02 6.70467510e-01\n",
      "  4.17304802e-01]\n",
      " [5.58689828e-01 1.40386939e-01 1.98101489e-01 8.00744569e-01\n",
      "  9.68261576e-01 3.13424178e-01 6.92322616e-01 8.76389152e-01\n",
      "  8.94606664e-01 8.50442114e-02 3.90547832e-02 1.69830420e-01\n",
      "  8.78142503e-01 9.83468338e-02 4.21107625e-01 9.57889530e-01\n",
      "  5.33165285e-01]\n",
      " [6.91877114e-01 3.15515631e-01 6.86500928e-01 8.34625672e-01\n",
      "  1.82882773e-02 7.50144315e-01 9.88861089e-01 7.48165654e-01\n",
      "  2.80443992e-01 7.89279328e-01 1.03226007e-01 4.47893526e-01\n",
      "  9.08595503e-01 2.93614148e-01 2.87775339e-01 1.30028572e-01\n",
      "  1.93669579e-02]]\n"
     ]
    }
   ],
   "source": [
    "# already defined first and second inputs\n",
    "num_samples = 100\n",
    "num_features = 17\n",
    "\n",
    "# YOUR CODE HERE\n",
    "#creating array with random data with given inputs\n",
    "tabular_data = np.random.random((num_samples, num_features))\n",
    "\n",
    "print(\"Shape of tabular data:\", tabular_data.shape)\n",
    "\n",
    "print(\"First few rows of tabular data:\")\n",
    "print(tabular_data[:3])"
   ]
  },
  {
   "cell_type": "markdown",
   "id": "100cc7cb",
   "metadata": {},
   "source": [
    "---\n",
    "#### <span style=\"color:chocolate\">Exercise 4:</span> Image data layout (10 points)"
   ]
  },
  {
   "cell_type": "markdown",
   "id": "1b5bf451",
   "metadata": {},
   "source": [
    "Create an image data layout using the numpy method <span style=\"color:chocolate\">np.random.random()</span>, where:\n",
    "\n",
    "* the first input is num_images;\n",
    "* the second input is num_rows;\n",
    "* the third input is num_cols;\n",
    "* the fourth input is num_channels.\n",
    "\n",
    "Print the shape of the array."
   ]
  },
  {
   "cell_type": "code",
   "execution_count": 727,
   "id": "51f6deb1",
   "metadata": {},
   "outputs": [
    {
     "name": "stdout",
     "output_type": "stream",
     "text": [
      "Shape of image data: (256, 256, 100, 3)\n",
      "[[[[0.25789298 0.93444549 0.61911963]\n",
      "   [0.98544491 0.03264387 0.72516666]\n",
      "   [0.56555424 0.49242405 0.25921813]\n",
      "   ...\n",
      "   [0.44789892 0.56178626 0.73671096]\n",
      "   [0.79648887 0.44750814 0.18412756]\n",
      "   [0.82873285 0.03099796 0.94672827]]\n",
      "\n",
      "  [[0.57697785 0.87538874 0.60856544]\n",
      "   [0.25165958 0.29612992 0.53292256]\n",
      "   [0.96207821 0.1844956  0.50989838]\n",
      "   ...\n",
      "   [0.54207615 0.82517533 0.03198418]\n",
      "   [0.87796042 0.034634   0.69319456]\n",
      "   [0.58748448 0.64174918 0.37408019]]\n",
      "\n",
      "  [[0.27546203 0.50940858 0.88582312]\n",
      "   [0.56528967 0.66314889 0.44137923]\n",
      "   [0.97213909 0.74252245 0.35490251]\n",
      "   ...\n",
      "   [0.27263228 0.48148581 0.19203127]\n",
      "   [0.84711292 0.50337761 0.52716018]\n",
      "   [0.28807959 0.51199923 0.00196365]]\n",
      "\n",
      "  ...\n",
      "\n",
      "  [[0.79810122 0.39137359 0.82888711]\n",
      "   [0.90491256 0.57452732 0.41914582]\n",
      "   [0.33724212 0.74840502 0.96197697]\n",
      "   ...\n",
      "   [0.314589   0.52017255 0.88902661]\n",
      "   [0.96497054 0.23189635 0.81425845]\n",
      "   [0.07250641 0.65411548 0.32837903]]\n",
      "\n",
      "  [[0.09150988 0.75435567 0.56758788]\n",
      "   [0.86183354 0.49029244 0.25392263]\n",
      "   [0.71792077 0.06902968 0.65002012]\n",
      "   ...\n",
      "   [0.9607343  0.12971546 0.78831192]\n",
      "   [0.5857619  0.82554428 0.77695671]\n",
      "   [0.32067358 0.6192646  0.53740135]]\n",
      "\n",
      "  [[0.06577613 0.73460465 0.7344235 ]\n",
      "   [0.43804905 0.44860346 0.04476214]\n",
      "   [0.02395499 0.46004395 0.39047203]\n",
      "   ...\n",
      "   [0.87123418 0.96563318 0.41400597]\n",
      "   [0.53410554 0.76286184 0.77557822]\n",
      "   [0.46443901 0.79319862 0.04804762]]]\n",
      "\n",
      "\n",
      " [[[0.72618974 0.21794567 0.23557081]\n",
      "   [0.70814853 0.11668276 0.42666319]\n",
      "   [0.82498391 0.49205244 0.54194715]\n",
      "   ...\n",
      "   [0.64999991 0.26178556 0.76513135]\n",
      "   [0.17913574 0.81698543 0.06313445]\n",
      "   [0.38293187 0.06198043 0.01104062]]\n",
      "\n",
      "  [[0.05574007 0.69422462 0.05217787]\n",
      "   [0.94184344 0.57883848 0.00361758]\n",
      "   [0.57594788 0.20680744 0.38497465]\n",
      "   ...\n",
      "   [0.17064365 0.022073   0.29129201]\n",
      "   [0.11357877 0.16969443 0.05911375]\n",
      "   [0.2510204  0.67997757 0.29962762]]\n",
      "\n",
      "  [[0.89005448 0.92626576 0.85786057]\n",
      "   [0.9800269  0.45299074 0.3886121 ]\n",
      "   [0.5783378  0.96765386 0.66695667]\n",
      "   ...\n",
      "   [0.88889804 0.76546665 0.69676367]\n",
      "   [0.55058705 0.4243409  0.17546278]\n",
      "   [0.10828688 0.13832588 0.44500994]]\n",
      "\n",
      "  ...\n",
      "\n",
      "  [[0.80043195 0.08469276 0.16816268]\n",
      "   [0.32538275 0.40926811 0.81543155]\n",
      "   [0.20349709 0.3294541  0.95416521]\n",
      "   ...\n",
      "   [0.67917609 0.64309968 0.27930055]\n",
      "   [0.91711373 0.79255529 0.52858428]\n",
      "   [0.7211894  0.93362021 0.54276542]]\n",
      "\n",
      "  [[0.28875871 0.64858584 0.90662848]\n",
      "   [0.69628948 0.58593954 0.35798682]\n",
      "   [0.79179918 0.87542839 0.45596615]\n",
      "   ...\n",
      "   [0.40141944 0.88333189 0.2780503 ]\n",
      "   [0.73465424 0.34494319 0.36559625]\n",
      "   [0.54819746 0.47331185 0.28692458]]\n",
      "\n",
      "  [[0.47401858 0.73983684 0.88156576]\n",
      "   [0.09050798 0.2795482  0.16875206]\n",
      "   [0.4926203  0.24434126 0.76720992]\n",
      "   ...\n",
      "   [0.705915   0.7695454  0.16330778]\n",
      "   [0.74007381 0.63790387 0.96042532]\n",
      "   [0.59134025 0.67496899 0.44902952]]]\n",
      "\n",
      "\n",
      " [[[0.3448143  0.09732201 0.28753371]\n",
      "   [0.68824625 0.01671244 0.81187161]\n",
      "   [0.22483926 0.53801207 0.09789954]\n",
      "   ...\n",
      "   [0.05859989 0.25277551 0.38863199]\n",
      "   [0.26636255 0.31158202 0.87800848]\n",
      "   [0.26793046 0.78603378 0.94276697]]\n",
      "\n",
      "  [[0.29079108 0.15148026 0.54956637]\n",
      "   [0.40020976 0.46371117 0.24945631]\n",
      "   [0.90402863 0.30875449 0.72606819]\n",
      "   ...\n",
      "   [0.81607297 0.26564712 0.26636383]\n",
      "   [0.62448247 0.04852236 0.78006077]\n",
      "   [0.1500826  0.47902772 0.88023934]]\n",
      "\n",
      "  [[0.5551618  0.97305788 0.65806291]\n",
      "   [0.65011221 0.01349734 0.35880024]\n",
      "   [0.18693186 0.86010842 0.40394026]\n",
      "   ...\n",
      "   [0.0139789  0.99583571 0.01696477]\n",
      "   [0.71869209 0.58791731 0.33751072]\n",
      "   [0.96609204 0.32747919 0.01331597]]\n",
      "\n",
      "  ...\n",
      "\n",
      "  [[0.23182203 0.07536555 0.70313077]\n",
      "   [0.27062492 0.41987916 0.60548373]\n",
      "   [0.13992561 0.2195698  0.33959028]\n",
      "   ...\n",
      "   [0.53138037 0.86043411 0.73339537]\n",
      "   [0.87718548 0.58927863 0.90015452]\n",
      "   [0.25144414 0.39396387 0.74265348]]\n",
      "\n",
      "  [[0.00536322 0.90553691 0.86916125]\n",
      "   [0.95078915 0.7271312  0.03457429]\n",
      "   [0.13285932 0.79806677 0.83534543]\n",
      "   ...\n",
      "   [0.78043506 0.4188175  0.2350195 ]\n",
      "   [0.05486374 0.33526773 0.62948335]\n",
      "   [0.18772433 0.1184353  0.17845017]]\n",
      "\n",
      "  [[0.38540112 0.45090157 0.90616746]\n",
      "   [0.85517366 0.7429233  0.20349284]\n",
      "   [0.72065933 0.22911229 0.79882324]\n",
      "   ...\n",
      "   [0.22856065 0.3040351  0.25510317]\n",
      "   [0.92070578 0.52428281 0.37951209]\n",
      "   [0.10799106 0.05914437 0.06095063]]]\n",
      "\n",
      "\n",
      " ...\n",
      "\n",
      "\n",
      " [[[0.00264225 0.82159202 0.36113149]\n",
      "   [0.70580394 0.03486389 0.54920412]\n",
      "   [0.70197202 0.37617523 0.23978075]\n",
      "   ...\n",
      "   [0.72132012 0.76890434 0.52520002]\n",
      "   [0.4475744  0.3959476  0.77043831]\n",
      "   [0.72668741 0.15585558 0.40401984]]\n",
      "\n",
      "  [[0.82525231 0.3340035  0.51733051]\n",
      "   [0.64955533 0.93077612 0.51039997]\n",
      "   [0.41485155 0.6524754  0.73661595]\n",
      "   ...\n",
      "   [0.50748238 0.64976893 0.96368845]\n",
      "   [0.38801502 0.53241567 0.59447894]\n",
      "   [0.45059126 0.47770966 0.37819821]]\n",
      "\n",
      "  [[0.13915276 0.24200391 0.97525528]\n",
      "   [0.76696505 0.2781354  0.23281951]\n",
      "   [0.5320788  0.1532703  0.59268677]\n",
      "   ...\n",
      "   [0.60005211 0.76720046 0.30857088]\n",
      "   [0.72221761 0.44041508 0.14170409]\n",
      "   [0.4090305  0.97885962 0.29175431]]\n",
      "\n",
      "  ...\n",
      "\n",
      "  [[0.54806014 0.9634197  0.66257594]\n",
      "   [0.19456131 0.70258166 0.12425422]\n",
      "   [0.85065518 0.80459189 0.1594719 ]\n",
      "   ...\n",
      "   [0.69496649 0.51544517 0.16036699]\n",
      "   [0.47575743 0.37281469 0.82423603]\n",
      "   [0.15743569 0.07966085 0.4261293 ]]\n",
      "\n",
      "  [[0.9720408  0.38862116 0.00194434]\n",
      "   [0.50190509 0.4995026  0.41535838]\n",
      "   [0.62852276 0.75445529 0.3627988 ]\n",
      "   ...\n",
      "   [0.72583841 0.05382382 0.06532734]\n",
      "   [0.04208833 0.55674    0.34687973]\n",
      "   [0.93212514 0.73215521 0.76565753]]\n",
      "\n",
      "  [[0.75457213 0.02170162 0.93020076]\n",
      "   [0.0781817  0.3879964  0.26346544]\n",
      "   [0.07336273 0.55381955 0.79494157]\n",
      "   ...\n",
      "   [0.7146091  0.11876905 0.09120117]\n",
      "   [0.94352235 0.47118626 0.83830552]\n",
      "   [0.74502922 0.72231229 0.32903808]]]\n",
      "\n",
      "\n",
      " [[[0.6718984  0.95002931 0.58342507]\n",
      "   [0.2533666  0.43938941 0.08303537]\n",
      "   [0.44768284 0.7906888  0.0155042 ]\n",
      "   ...\n",
      "   [0.741946   0.66329371 0.47421209]\n",
      "   [0.04157033 0.49692728 0.37489005]\n",
      "   [0.46843472 0.23269352 0.58371789]]\n",
      "\n",
      "  [[0.76622631 0.32928742 0.86144435]\n",
      "   [0.49526269 0.10660084 0.70561114]\n",
      "   [0.23894725 0.92089803 0.22313334]\n",
      "   ...\n",
      "   [0.44921435 0.95904891 0.95101857]\n",
      "   [0.19362201 0.54626466 0.35683505]\n",
      "   [0.51808771 0.09017758 0.39041574]]\n",
      "\n",
      "  [[0.16619244 0.5472936  0.13223073]\n",
      "   [0.64518544 0.02899093 0.83982192]\n",
      "   [0.97914897 0.56152502 0.48639994]\n",
      "   ...\n",
      "   [0.46664745 0.61571994 0.93809908]\n",
      "   [0.51061136 0.61095226 0.33294166]\n",
      "   [0.66241367 0.00783183 0.24181361]]\n",
      "\n",
      "  ...\n",
      "\n",
      "  [[0.9196128  0.21589638 0.36307735]\n",
      "   [0.49471998 0.54530305 0.7313031 ]\n",
      "   [0.76901477 0.13158772 0.09651654]\n",
      "   ...\n",
      "   [0.72784101 0.23763014 0.96242498]\n",
      "   [0.95087011 0.65726873 0.5833894 ]\n",
      "   [0.50064207 0.88461245 0.73425307]]\n",
      "\n",
      "  [[0.04398617 0.56850087 0.67670677]\n",
      "   [0.22591668 0.90539017 0.92196839]\n",
      "   [0.13852951 0.28667642 0.19805534]\n",
      "   ...\n",
      "   [0.49240094 0.0075196  0.00770658]\n",
      "   [0.71983582 0.30492608 0.44780125]\n",
      "   [0.31941944 0.19878182 0.51529115]]\n",
      "\n",
      "  [[0.80597895 0.27194025 0.1920136 ]\n",
      "   [0.20039434 0.70832083 0.57629192]\n",
      "   [0.46531103 0.84468753 0.50952521]\n",
      "   ...\n",
      "   [0.7190975  0.58752967 0.13973009]\n",
      "   [0.11788731 0.07080816 0.9586659 ]\n",
      "   [0.16481572 0.66258503 0.75315117]]]\n",
      "\n",
      "\n",
      " [[[0.47204046 0.9599841  0.43338034]\n",
      "   [0.16193994 0.97278983 0.35411813]\n",
      "   [0.01408563 0.79857932 0.04215734]\n",
      "   ...\n",
      "   [0.04160074 0.22019606 0.25985084]\n",
      "   [0.24192612 0.26300905 0.2310884 ]\n",
      "   [0.33985977 0.46243457 0.64543212]]\n",
      "\n",
      "  [[0.35045238 0.00663214 0.52000802]\n",
      "   [0.35840976 0.82051136 0.82289792]\n",
      "   [0.25166117 0.37097528 0.66651365]\n",
      "   ...\n",
      "   [0.14696634 0.63079644 0.40494553]\n",
      "   [0.33423763 0.45760818 0.80466377]\n",
      "   [0.85335305 0.23495165 0.24388928]]\n",
      "\n",
      "  [[0.07815302 0.47543539 0.43888366]\n",
      "   [0.54084086 0.56292132 0.04377143]\n",
      "   [0.38612834 0.7339514  0.91455334]\n",
      "   ...\n",
      "   [0.04697752 0.19291228 0.5587722 ]\n",
      "   [0.46174742 0.47015121 0.12614043]\n",
      "   [0.89623122 0.92765631 0.83343934]]\n",
      "\n",
      "  ...\n",
      "\n",
      "  [[0.99830735 0.58292585 0.37669202]\n",
      "   [0.45606745 0.9409187  0.77988702]\n",
      "   [0.27891754 0.27706288 0.41683089]\n",
      "   ...\n",
      "   [0.66490144 0.95022124 0.02616219]\n",
      "   [0.3401725  0.70861259 0.69349693]\n",
      "   [0.01616863 0.63501616 0.4226226 ]]\n",
      "\n",
      "  [[0.33635488 0.93328256 0.77274678]\n",
      "   [0.56711078 0.41610981 0.01024706]\n",
      "   [0.61298976 0.70108676 0.19869457]\n",
      "   ...\n",
      "   [0.73304172 0.13536474 0.98816237]\n",
      "   [0.45652996 0.17331316 0.14287801]\n",
      "   [0.24560805 0.71768301 0.55051796]]\n",
      "\n",
      "  [[0.02971348 0.57948849 0.72729173]\n",
      "   [0.81405629 0.21188077 0.12608224]\n",
      "   [0.69582939 0.87391215 0.13828445]\n",
      "   ...\n",
      "   [0.41456437 0.87316181 0.73377094]\n",
      "   [0.992429   0.33514438 0.77898199]\n",
      "   [0.31496702 0.46758934 0.24051145]]]]\n"
     ]
    }
   ],
   "source": [
    "# already defined inputs\n",
    "num_images = 100\n",
    "num_rows = 256\n",
    "num_cols = 256\n",
    "num_channels = 3 #(RGB)\n",
    "\n",
    "# YOUR CODE HERE\n",
    "image_data = np.random.random((num_rows, num_cols, num_images, num_channels))\n",
    "\n",
    "print(\"Shape of image data:\", image_data.shape)\n",
    "\n",
    "print(image_data)"
   ]
  },
  {
   "cell_type": "markdown",
   "id": "33ee5e31",
   "metadata": {},
   "source": [
    "---\n",
    "#### <span style=\"color:chocolate\">Exercise 5: </span>Mathematical operations on numpy arrays (15 points)"
   ]
  },
  {
   "cell_type": "markdown",
   "id": "7f4b8b1f",
   "metadata": {},
   "source": [
    "Create a (3, 2) numpy array (you can name it my_array4) containing only integer values. Perform the following tasks:\n",
    "\n",
    "1. Print the shape of the array;\n",
    "2. Print the sum of all elements (hint: the axis argument is set to None);\n",
    "3. Print the sum of all elements by column;\n",
    "3. Print the sum of all elements by row and change the type of the resulting array elements to float;\n",
    "5. Print the first row of the array;\n",
    "6. Print the second row of the array;\n",
    "7. Select the element at position (1, 0);\n",
    "8. Modify the element at position (2, 1) by setting its value to 10 and print the array again;\n",
    "9. Loop over elements in the array. Print the output."
   ]
  },
  {
   "cell_type": "code",
   "execution_count": 728,
   "id": "a329fbf5",
   "metadata": {},
   "outputs": [
    {
     "name": "stdout",
     "output_type": "stream",
     "text": [
      "Shape of the array: (3, 2)\n",
      "Sum of all elements: 24\n",
      "Sum of all elements by column: [ 8 16]\n",
      "Sum of all elements by row with float elements [ 4.  6. 14.]\n",
      "First row of array: [1 3]\n",
      "Second row of array: [2 4]\n",
      "Element at position (1,0): 2\n",
      "Array with modified (2,1) position [[ 1  3]\n",
      " [ 2  4]\n",
      " [ 5 10]]\n",
      "1\n",
      "3\n",
      "2\n",
      "4\n",
      "5\n",
      "10\n"
     ]
    }
   ],
   "source": [
    "# YOUR CODE HERE\n",
    "my_array4=np.array([[1,3],[2,4],[5,9]])\n",
    "print(\"Shape of the array:\",my_array4.shape)\n",
    "print(\"Sum of all elements:\",my_array4.sum())\n",
    "print(\"Sum of all elements by column:\",my_array4.sum(axis=0))\n",
    "print(\"Sum of all elements by row with float elements\",my_array4.sum(axis=1,dtype=float))\n",
    "print(\"First row of array:\",my_array4[0])\n",
    "print(\"Second row of array:\",my_array4[1])\n",
    "print(\"Element at position (1,0):\",my_array4[1,0])\n",
    "\n",
    "my_array4[2,1]=10\n",
    "print(\"Array with modified (2,1) position\",my_array4)\n",
    "\n",
    "for row in my_array4:\n",
    "    for element in row:\n",
    "        print(element)\n",
    "\n"
   ]
  },
  {
   "cell_type": "markdown",
   "id": "33d6dc65",
   "metadata": {},
   "source": [
    "You can find more examples here: https://numpy.org/doc/stable/reference/routines.math.html"
   ]
  },
  {
   "cell_type": "markdown",
   "id": "3cbf1bcb",
   "metadata": {},
   "source": [
    "---\n",
    "#### <span style=\"color:chocolate\">Exercise 6:</span> Create arrays (15 points)\n",
    "\n",
    "1. Create and print a (3,2) numpy array of pixel values between 0 and 1.\n",
    "2. Create and print a (27,) numpy array representing years from 1991 to 2017\n",
    "3. Create and print a (3, 5, 10) empty numpy array\n",
    "4. Create and print a (3, 5, 10) numpy array of ones\n",
    "5. Create and print an array with a constant value (let's say 5) using np.ones()\n",
    "6. Create and print an array with random numbers drawn from a normal distribution with mean 0 and standard deviation 1. Set the sample size to 10.\n"
   ]
  },
  {
   "cell_type": "code",
   "execution_count": 729,
   "id": "7b13c758",
   "metadata": {},
   "outputs": [
    {
     "name": "stdout",
     "output_type": "stream",
     "text": [
      "(3,2) array with pixel between 0 and 1: [[0.28999571 0.50818013]\n",
      " [0.47655793 0.57281228]\n",
      " [0.53403895 0.66869277]]\n",
      "Array representing years from 1991 to 2017: [1991 1992 1993 1994 1995 1996 1997 1998 1999 2000 2001 2002 2003 2004\n",
      " 2005 2006 2007 2008 2009 2010 2011 2012 2013 2014 2015 2016 2017]\n",
      "Empty (3, 5, 10) array: [[[6.95335215e-310 6.95335215e-310 6.95335215e-310 6.95335215e-310\n",
      "   6.95335215e-310 6.95335215e-310 6.95335215e-310 6.95335215e-310\n",
      "   6.95335215e-310 6.95335215e-310]\n",
      "  [6.95335215e-310 6.95335215e-310 6.95335215e-310 6.95335215e-310\n",
      "   6.95335215e-310 6.95335215e-310 6.95335215e-310 6.95335215e-310\n",
      "   6.95335215e-310 6.95335215e-310]\n",
      "  [6.95335215e-310 6.95335215e-310 6.95335215e-310 6.95335215e-310\n",
      "   6.95335215e-310 6.95335215e-310 6.95335215e-310 6.95335215e-310\n",
      "   6.95335215e-310 6.95335215e-310]\n",
      "  [6.95335215e-310 6.95335215e-310 6.95335215e-310 6.95335215e-310\n",
      "   6.95335215e-310 6.95335215e-310 6.95335215e-310 6.95335215e-310\n",
      "   6.95335215e-310 6.95335215e-310]\n",
      "  [6.95335215e-310 6.95335215e-310 6.95335215e-310 6.95335215e-310\n",
      "   6.95335215e-310 6.95335215e-310 6.95335215e-310 6.95335215e-310\n",
      "   6.95335215e-310 6.95335215e-310]]\n",
      "\n",
      " [[6.95335215e-310 6.95335215e-310 6.95335215e-310 6.95335215e-310\n",
      "   6.95335215e-310 6.95335215e-310 6.95335215e-310 6.95335215e-310\n",
      "   6.95335215e-310 6.95335215e-310]\n",
      "  [6.95335215e-310 6.95335215e-310 6.95335215e-310 6.95335215e-310\n",
      "   6.95335215e-310 6.95335215e-310 6.95335215e-310 6.95335215e-310\n",
      "   6.95335215e-310 6.95335215e-310]\n",
      "  [6.95335215e-310 6.95335215e-310 6.95335215e-310 6.95335215e-310\n",
      "   6.95335215e-310 6.95335215e-310 6.95335215e-310 6.95335215e-310\n",
      "   6.95335215e-310 6.95335215e-310]\n",
      "  [6.95335215e-310 6.95335215e-310 6.95335215e-310 6.95335215e-310\n",
      "   6.95335215e-310 6.95335215e-310 6.95335215e-310 6.95335215e-310\n",
      "   6.95335215e-310 6.95335215e-310]\n",
      "  [6.95335215e-310 6.95335215e-310 6.95335215e-310 6.95335215e-310\n",
      "   6.95335215e-310 6.95335215e-310 6.95335215e-310 6.95335215e-310\n",
      "   6.95335215e-310 6.95335215e-310]]\n",
      "\n",
      " [[6.95335215e-310 6.95335215e-310 6.95335215e-310 6.95335215e-310\n",
      "   6.95335215e-310 6.95335215e-310 6.95335215e-310 6.95335215e-310\n",
      "   6.95335215e-310 6.95335215e-310]\n",
      "  [6.95335215e-310 6.95335215e-310 6.95335215e-310 6.95335215e-310\n",
      "   6.95335215e-310 6.95335215e-310 6.95335215e-310 6.95335215e-310\n",
      "   6.95335215e-310 6.95335215e-310]\n",
      "  [6.95335215e-310 6.95335215e-310 6.95335215e-310 6.95335215e-310\n",
      "   6.95335215e-310 6.95335215e-310 6.95335215e-310 6.95335215e-310\n",
      "   6.95335215e-310 6.95335215e-310]\n",
      "  [6.95335215e-310 6.95335215e-310 6.95335215e-310 6.95335215e-310\n",
      "   6.95335215e-310 6.95335215e-310 6.95335215e-310 6.95335215e-310\n",
      "   6.95335215e-310 6.95335215e-310]\n",
      "  [6.95335215e-310 6.95335215e-310 6.95335215e-310 6.95335215e-310\n",
      "   6.95335215e-310 6.95335215e-310 6.95335215e-310 6.95335215e-310\n",
      "   4.99751707e+223 1.05917771e+218]]]\n",
      "(3,5,10) array of ones: [[[1 1 1 1 1 1 1 1 1 1]\n",
      "  [1 1 1 1 1 1 1 1 1 1]\n",
      "  [1 1 1 1 1 1 1 1 1 1]\n",
      "  [1 1 1 1 1 1 1 1 1 1]\n",
      "  [1 1 1 1 1 1 1 1 1 1]]\n",
      "\n",
      " [[1 1 1 1 1 1 1 1 1 1]\n",
      "  [1 1 1 1 1 1 1 1 1 1]\n",
      "  [1 1 1 1 1 1 1 1 1 1]\n",
      "  [1 1 1 1 1 1 1 1 1 1]\n",
      "  [1 1 1 1 1 1 1 1 1 1]]\n",
      "\n",
      " [[1 1 1 1 1 1 1 1 1 1]\n",
      "  [1 1 1 1 1 1 1 1 1 1]\n",
      "  [1 1 1 1 1 1 1 1 1 1]\n",
      "  [1 1 1 1 1 1 1 1 1 1]\n",
      "  [1 1 1 1 1 1 1 1 1 1]]]\n",
      "Array with constant value (5): [[[5 5 5 5 5 5 5 5 5 5]\n",
      "  [5 5 5 5 5 5 5 5 5 5]\n",
      "  [5 5 5 5 5 5 5 5 5 5]\n",
      "  [5 5 5 5 5 5 5 5 5 5]\n",
      "  [5 5 5 5 5 5 5 5 5 5]]\n",
      "\n",
      " [[5 5 5 5 5 5 5 5 5 5]\n",
      "  [5 5 5 5 5 5 5 5 5 5]\n",
      "  [5 5 5 5 5 5 5 5 5 5]\n",
      "  [5 5 5 5 5 5 5 5 5 5]\n",
      "  [5 5 5 5 5 5 5 5 5 5]]\n",
      "\n",
      " [[5 5 5 5 5 5 5 5 5 5]\n",
      "  [5 5 5 5 5 5 5 5 5 5]\n",
      "  [5 5 5 5 5 5 5 5 5 5]\n",
      "  [5 5 5 5 5 5 5 5 5 5]\n",
      "  [5 5 5 5 5 5 5 5 5 5]]]\n",
      "Array with random numbers drawn from a normal distribution: [ 0.26378038  1.84100739  0.06769232 -2.13097594 -0.50118065 -0.28793625\n",
      "  0.59800247 -0.10996382 -0.48399206 -0.38879013]\n"
     ]
    }
   ],
   "source": [
    "# YOUR CODE HERE\n",
    "print(\"(3,2) array with pixel between 0 and 1:\",np.random.random((3,2)))\n",
    "print(\"Array representing years from 1991 to 2017:\",np.linspace(1991,2017,27,dtype=int))\n",
    "#print(\"Empty (3,5,10) array:\",np.empty((3,5,10)))\n",
    "\n",
    "empty_array = np.empty((3, 5, 10))\n",
    "print(\"Empty (3, 5, 10) array:\", empty_array)\n",
    "\n",
    "ones_array=np.ones((3,5,10),dtype=int)\n",
    "print(\"(3,5,10) array of ones:\",ones_array)\n",
    "\n",
    "print(\"Array with constant value (5):\",ones_array*5)\n",
    "\n",
    "sample_size = 10\n",
    "random_array = np.random.normal(loc=0, scale=1, size=sample_size)\n",
    "\n",
    "print(\"Array with random numbers drawn from a normal distribution:\",random_array)"
   ]
  },
  {
   "cell_type": "markdown",
   "id": "d75ec682",
   "metadata": {},
   "source": [
    "---\n",
    "#### <span style=\"color:chocolate\">Exercise 7:</span> Reshape arrays (10 points)"
   ]
  },
  {
   "cell_type": "markdown",
   "id": "4af75cd1",
   "metadata": {},
   "source": [
    "Consider the following array:"
   ]
  },
  {
   "cell_type": "code",
   "execution_count": 730,
   "id": "e9c13f8b",
   "metadata": {},
   "outputs": [
    {
     "name": "stdout",
     "output_type": "stream",
     "text": [
      "(27,)\n"
     ]
    }
   ],
   "source": [
    "years = np.arange(1991, 2018, 1)\n",
    "print(years.shape)"
   ]
  },
  {
   "cell_type": "markdown",
   "id": "5c4d422e",
   "metadata": {},
   "source": [
    "Perform the following operations on this array:\n",
    "    \n",
    "1. Create 3 nested arrays, each of size (3, 3). Call this array years_3d;\n",
    "2. Convert the years_3d array to a flat 1D array. Call this array years_1d;\n",
    "3. Add a new axis (in front) to the years_1d array. Call this array years_2d;\n",
    "4. Remove the first axis from years_2d array. Call this array years_1d.\n",
    "\n",
    "For each exercise print the array and its shape."
   ]
  },
  {
   "cell_type": "code",
   "execution_count": 731,
   "id": "7d85dbd0",
   "metadata": {},
   "outputs": [
    {
     "name": "stdout",
     "output_type": "stream",
     "text": [
      "3 nested arrays of size (3,3): [[[1991 1992 1993]\n",
      "  [1994 1995 1996]\n",
      "  [1997 1998 1999]]\n",
      "\n",
      " [[2000 2001 2002]\n",
      "  [2003 2004 2005]\n",
      "  [2006 2007 2008]]\n",
      "\n",
      " [[2009 2010 2011]\n",
      "  [2012 2013 2014]\n",
      "  [2015 2016 2017]]]\n",
      "1D flattened array: [1991 1992 1993 1994 1995 1996 1997 1998 1999 2000 2001 2002 2003 2004\n",
      " 2005 2006 2007 2008 2009 2010 2011 2012 2013 2014 2015 2016 2017]\n",
      "Shape of the array with a new axis: (1, 27)\n",
      "Shape of the array after removing the first axis: (27,)\n"
     ]
    }
   ],
   "source": [
    "# YOUR CODE HERE\n",
    "\n",
    "#Creating 3 nested arrays with each of size (3,3)\n",
    "years_3d = years.reshape((3,3,3))\n",
    "print(\"3 nested arrays of size (3,3):\",years_3d)\n",
    "\n",
    "#Converting years_3D array to a flat 1D array\n",
    "years_1d=years_3D.flatten()\n",
    "print(\"1D flattened array:\",years_1d)\n",
    "\n",
    "#Adding a new axis in front\n",
    "years_2d = np.expand_dims(years_1d, axis=0)\n",
    "print(\"Shape of the array with a new axis:\", years_2d.shape)\n",
    "\n",
    "#Removing the axis (front axis)\n",
    "years_1d = years_2d.squeeze(axis=0)\n",
    "\n",
    "# Printing the shape of the array after removing the first axis\n",
    "print(\"Shape of the array after removing the first axis:\", years_1d.shape)"
   ]
  },
  {
   "cell_type": "markdown",
   "id": "b23bb336",
   "metadata": {},
   "source": [
    "---\n",
    "#### <span style=\"color:chocolate\">Exercise 8:</span> Joining arrays (10 points)"
   ]
  },
  {
   "cell_type": "markdown",
   "id": "921e4750",
   "metadata": {},
   "source": [
    "Provide 8 examples that use the methods <span style=\"color:cornflowerBlue\">np.concatenate()</span> and <span style=\"color:cornflowerBlue\">np.stack()</span>. Note: create 4 examples using each method."
   ]
  },
  {
   "cell_type": "code",
   "execution_count": 796,
   "id": "155c5ac2",
   "metadata": {},
   "outputs": [
    {
     "name": "stdout",
     "output_type": "stream",
     "text": [
      "Concatenated array along rows: [[3 6]\n",
      " [7 4]\n",
      " [2 4]\n",
      " [1 5]]\n",
      "Concatenated array along columns: [[3 6 2 4]\n",
      " [7 4 1 5]]\n",
      "Concatenated array by default: [[3 6]\n",
      " [7 4]\n",
      " [2 4]\n",
      " [1 5]]\n",
      "Concatenated array of different shape: [3 6 7 4 2 4 1 5 1 2]\n",
      "Concatenated array of different shape: [3 6 7 4 1 2 7 0]\n",
      "Stacking two 1D arrays vertically: [[1 2 3]\n",
      " [4 5 6]]\n",
      "Stacking two 1D arrays horizontally: [[1 4]\n",
      " [2 5]\n",
      " [3 6]]\n",
      "Stacking two 2D arrays along a new axis: [[[3 6]\n",
      "  [7 4]]\n",
      "\n",
      " [[2 4]\n",
      "  [1 5]]]\n",
      "Stacking two 2D arrays along existing axis: [[[3 6]\n",
      "  [2 4]]\n",
      "\n",
      " [[7 4]\n",
      "  [1 5]]]\n"
     ]
    }
   ],
   "source": [
    "# YOUR CODE HERE\n",
    "\n",
    "#Five examples of np.concatenate()\n",
    "arr1 = np.array([[3, 6], [7, 4]])\n",
    "arr2 = np.array([[2, 4], [1, 5]])\n",
    "\n",
    "result1 = np.concatenate((arr1, arr2), axis=0)\n",
    "print(\"Concatenated array along rows:\", result1)\n",
    "\n",
    "result2=np.concatenate((arr1,arr2),axis=1)\n",
    "print(\"Concatenated array along columns:\",result2)\n",
    "\n",
    "result3 = np.concatenate((arr1, arr2))\n",
    "print(\"Concatenated array by default:\",result3)\n",
    "\n",
    "arr3 = np.array([[1, 2]])\n",
    "result4 = np.concatenate((arr1, arr2, arr3),axis=None)\n",
    "print(\"Concatenated array of different shape:\", result4)\n",
    "\n",
    "arr4=np.array([[7],[0]])\n",
    "result5=np.concatenate((arr1,arr3,arr4),axis=None)\n",
    "print(\"Concatenated array of different shape:\", result5)\n",
    "\n",
    "\n",
    "#Four examples of np.stack()\n",
    "arr1_stack = np.array([1, 2, 3])\n",
    "arr2_stack = np.array([4, 5, 6])\n",
    "\n",
    "stack1_result = np.stack((arr1_stack, arr2_stack))\n",
    "print(\"Stacking two 1D arrays vertically:\", stack1_result)\n",
    "\n",
    "stack2_result = np.stack((arr1_stack, arr2_stack),axis=1)\n",
    "print(\"Stacking two 1D arrays horizontally:\", stack2_result)\n",
    "\n",
    "stack3_result = np.stack((arr1, arr2))\n",
    "print(\"Stacking two 2D arrays along a new axis:\", stack3_result)\n",
    "\n",
    "stack4_result = np.stack((arr1, arr2),axis=1)\n",
    "print(\"Stacking two 2D arrays along existing axis:\", stack4_result)\n"
   ]
  },
  {
   "cell_type": "markdown",
   "id": "10e5215e",
   "metadata": {},
   "source": [
    "---\n",
    "#### <span style=\"color:chocolate\">Numpy broadcasting</span> "
   ]
  },
  {
   "cell_type": "markdown",
   "id": "6d4ae245",
   "metadata": {},
   "source": [
    "The term broadcasting describes how NumPy treats arrays during arithmetic operations. You can find more here:  https://numpy.org/doc/stable/user/basics.broadcasting.html"
   ]
  },
  {
   "cell_type": "code",
   "execution_count": 805,
   "id": "4f6bfad7",
   "metadata": {},
   "outputs": [
    {
     "data": {
      "text/plain": [
       "array([1991, 1992, 1993, 1994, 1995, 1996, 1997, 1998, 1999, 2000, 2001,\n",
       "       2002, 2003, 2004, 2005, 2006, 2007, 2008, 2009, 2010, 2011, 2012,\n",
       "       2013, 2014, 2015, 2016, 2017])"
      ]
     },
     "execution_count": 805,
     "metadata": {},
     "output_type": "execute_result"
    }
   ],
   "source": [
    "# multiplying an array with a scalar\n",
    "years = np.arange(1991, 2018, 1)\n",
    "years * 1"
   ]
  },
  {
   "cell_type": "code",
   "execution_count": 806,
   "id": "58f33828",
   "metadata": {},
   "outputs": [
    {
     "data": {
      "text/plain": [
       "array([1993, 1994, 1995, 1996, 1997, 1998, 1999, 2000, 2001, 2002, 2003,\n",
       "       2004, 2005, 2006, 2007, 2008, 2009, 2010, 2011, 2012, 2013, 2014,\n",
       "       2015, 2016, 2017, 2018, 2019])"
      ]
     },
     "execution_count": 806,
     "metadata": {},
     "output_type": "execute_result"
    }
   ],
   "source": [
    "# adding a scalar\n",
    "years + 2"
   ]
  },
  {
   "cell_type": "code",
   "execution_count": 807,
   "id": "d1c150bf",
   "metadata": {},
   "outputs": [
    {
     "name": "stdout",
     "output_type": "stream",
     "text": [
      "Array a: [0 1 2]\n",
      "Array b: [0 1 2]\n",
      "Sum of a and b: [0 2 4]\n"
     ]
    }
   ],
   "source": [
    "# many arithmetic operations are applied element wise on a pair of arrays\n",
    "a = np.arange(3)\n",
    "print('Array a:', a)\n",
    "b = np.arange(3)\n",
    "print('Array b:', b)\n",
    "print('Sum of a and b:', a+b)"
   ]
  },
  {
   "cell_type": "code",
   "execution_count": 808,
   "id": "9718c167",
   "metadata": {},
   "outputs": [
    {
     "name": "stdout",
     "output_type": "stream",
     "text": [
      "Array a: [[1. 1. 1.]\n",
      " [1. 1. 1.]\n",
      " [1. 1. 1.]]\n",
      "\n",
      "Array b: [0 1 2]\n",
      "\n",
      "Sum of a and b: [[1. 2. 3.]\n",
      " [1. 2. 3.]\n",
      " [1. 2. 3.]]\n"
     ]
    }
   ],
   "source": [
    "# another example\n",
    "a = np.ones((3, 3))\n",
    "print('Array a:', a)\n",
    "b = np.arange(3)\n",
    "print('\\nArray b:', b)\n",
    "print('\\nSum of a and b:', a+b)"
   ]
  },
  {
   "cell_type": "markdown",
   "id": "a2106423",
   "metadata": {},
   "source": [
    "---\n",
    "#### <span style=\"color:chocolate\">Exercise 9:</span> Numpy array standardization (10 points)"
   ]
  },
  {
   "cell_type": "markdown",
   "id": "b928ab75",
   "metadata": {},
   "source": [
    "Consider the following (10, 4) array:"
   ]
  },
  {
   "cell_type": "code",
   "execution_count": 828,
   "id": "1daf0061",
   "metadata": {},
   "outputs": [
    {
     "name": "stdout",
     "output_type": "stream",
     "text": [
      "my_array shape:  (10, 4)\n"
     ]
    },
    {
     "data": {
      "text/plain": [
       "array([[4.17022005e-01, 7.20324493e-01, 1.14374817e-04, 3.02332573e-01],\n",
       "       [1.46755891e-01, 9.23385948e-02, 1.86260211e-01, 3.45560727e-01],\n",
       "       [3.96767474e-01, 5.38816734e-01, 4.19194514e-01, 6.85219500e-01],\n",
       "       [2.04452250e-01, 8.78117436e-01, 2.73875932e-02, 6.70467510e-01],\n",
       "       [4.17304802e-01, 5.58689828e-01, 1.40386939e-01, 1.98101489e-01],\n",
       "       [8.00744569e-01, 9.68261576e-01, 3.13424178e-01, 6.92322616e-01],\n",
       "       [8.76389152e-01, 8.94606664e-01, 8.50442114e-02, 3.90547832e-02],\n",
       "       [1.69830420e-01, 8.78142503e-01, 9.83468338e-02, 4.21107625e-01],\n",
       "       [9.57889530e-01, 5.33165285e-01, 6.91877114e-01, 3.15515631e-01],\n",
       "       [6.86500928e-01, 8.34625672e-01, 1.82882773e-02, 7.50144315e-01]])"
      ]
     },
     "execution_count": 828,
     "metadata": {},
     "output_type": "execute_result"
    }
   ],
   "source": [
    "my_array = np.random.random((10, 4))\n",
    "print('my_array shape: ', my_array.shape)\n",
    "my_array"
   ]
  },
  {
   "cell_type": "markdown",
   "id": "d24063b3",
   "metadata": {},
   "source": [
    "Peform the following operations on this array:\n",
    "1. Compute and print the mean and std for each column (note: set keepdims=True for proper broadcasting).\n",
    "2. Standardize and print the array and its shape using the mean and std you computed above."
   ]
  },
  {
   "cell_type": "code",
   "execution_count": 832,
   "id": "7970e2fe",
   "metadata": {},
   "outputs": [
    {
     "name": "stdout",
     "output_type": "stream",
     "text": [
      "Mean of each columns is: [[0.5073657  0.68970888 0.19803242 0.44198268]]\n",
      "Std. of each column: [[0.28662547 0.25175573 0.20805644 0.23152993]]\n",
      "Standardized array shape: (10, 4)\n",
      "Standardized array: [[-0.31519773  0.12160841 -0.95127097 -0.6031622 ]\n",
      " [-1.25812201 -2.37281699 -0.05658183 -0.41645566]\n",
      " [-0.38586322 -0.59935931  1.06299085  1.05056318]\n",
      " [-1.05682671  0.74837842 -0.8201853   0.98684792]\n",
      " [-0.31421109 -0.52042131 -0.27706658 -1.05334626]\n",
      " [ 1.02356175  1.10644033  0.55461756  1.08124222]\n",
      " [ 1.28747613  0.81387534 -0.54306521 -1.74028424]\n",
      " [-1.1776179   0.74847798 -0.47912764 -0.09016135]\n",
      " [ 1.57182064 -0.62180746  2.37360926 -0.54622331]\n",
      " [ 0.62498014  0.5756246  -0.86392014  1.33097969]]\n"
     ]
    }
   ],
   "source": [
    "np.random.seed(seed=1)\n",
    "# YOUR CODE HERE\n",
    "\n",
    "column_mean = np.mean(my_array,axis=0,keepdims=True)\n",
    "print(\"Mean of each columns is:\",column_mean)\n",
    "\n",
    "column_std = np.std(my_array,axis=0,keepdims=True)\n",
    "print(\"Std. of each column:\",column_std)\n",
    "\n",
    "standardized_array = (my_array - column_mean) / column_std\n",
    "\n",
    "print('Standardized array shape:', standardized_array.shape)\n",
    "print('Standardized array:',standardized_array)"
   ]
  },
  {
   "cell_type": "markdown",
   "id": "87de03c8",
   "metadata": {},
   "source": [
    "----\n",
    "#### <span style=\"color:chocolate\">Bonus question:</span> Advanced (20 points)"
   ]
  },
  {
   "cell_type": "markdown",
   "id": "b3c84045",
   "metadata": {},
   "source": [
    "Consider the following image:"
   ]
  },
  {
   "cell_type": "code",
   "execution_count": 833,
   "id": "9483dfe7",
   "metadata": {},
   "outputs": [
    {
     "name": "stdout",
     "output_type": "stream",
     "text": [
      "[[0.   0.04 0.08 0.12 0.16]\n",
      " [0.2  0.24 0.28 0.32 0.36]\n",
      " [0.4  0.44 0.48 0.52 0.56]\n",
      " [0.6  0.64 0.68 0.72 0.76]\n",
      " [0.8  0.84 0.88 0.92 0.96]]\n"
     ]
    },
    {
     "data": {
      "text/plain": [
       "(5, 5)"
      ]
     },
     "execution_count": 833,
     "metadata": {},
     "output_type": "execute_result"
    }
   ],
   "source": [
    "my_image = np.arange(0, 1, 0.04).reshape(5,5)\n",
    "print(my_image)\n",
    "my_image.shape"
   ]
  },
  {
   "cell_type": "markdown",
   "id": "364e6cf2",
   "metadata": {},
   "source": [
    "Perform the following operations on this image (do not overwrite the original image):\n",
    "\n",
    "1. Crop by using a border of size 1;\n",
    "2. Crop by using a border of size 2;\n",
    "3. Reverse the column order;\n",
    "4. set to 0.5 elements divizible by 2."
   ]
  },
  {
   "cell_type": "code",
   "execution_count": 835,
   "id": "70eae368",
   "metadata": {},
   "outputs": [
    {
     "name": "stdout",
     "output_type": "stream",
     "text": [
      "Cropped image with border size 1: [[0.24 0.28 0.32]\n",
      " [0.44 0.48 0.52]\n",
      " [0.64 0.68 0.72]]\n",
      "Cropped image with border size 2: [[0.48]]\n",
      "Image with reversed column order: [[0.16 0.12 0.08 0.04 0.  ]\n",
      " [0.36 0.32 0.28 0.24 0.2 ]\n",
      " [0.56 0.52 0.48 0.44 0.4 ]\n",
      " [0.76 0.72 0.68 0.64 0.6 ]\n",
      " [0.96 0.92 0.88 0.84 0.8 ]]\n",
      "[[0.16 0.12 0.08 0.04 0.  ]\n",
      " [0.36 0.32 0.28 0.24 0.2 ]\n",
      " [0.56 0.52 0.48 0.44 0.4 ]\n",
      " [0.76 0.72 0.68 0.64 0.6 ]\n",
      " [0.96 0.92 0.88 0.84 0.8 ]]\n",
      "Modified image with elements divisible by 2 set to 0.5: [[0.5  0.04 0.08 0.12 0.16]\n",
      " [0.2  0.24 0.28 0.32 0.36]\n",
      " [0.4  0.44 0.48 0.52 0.56]\n",
      " [0.6  0.64 0.68 0.72 0.76]\n",
      " [0.8  0.84 0.88 0.92 0.96]]\n"
     ]
    }
   ],
   "source": [
    "# YOUR CODE HERE\n",
    "crop_border1 = my_image[1:-1, 1:-1]\n",
    "print(\"Cropped image with border size 1:\",crop_border1)\n",
    "\n",
    "crop_border2 = my_image[2:-2, 2:-2]\n",
    "print(\"Cropped image with border size 2:\",crop_border2)\n",
    "\n",
    "reversed_columns = my_image[:, ::-1]\n",
    "print(\"Image with reversed column order:\",reversed_columns)\n",
    "print(reversed_columns)\n",
    "\n",
    "modified_image = my_image.copy()\n",
    "modified_image[(modified_image % 2 == 0)] = 0.5\n",
    "print(\"Modified image with elements divisible by 2 set to 0.5:\",modified_image)"
   ]
  }
 ],
 "metadata": {
  "kernelspec": {
   "display_name": "Python 3",
   "language": "python",
   "name": "python3"
  },
  "language_info": {
   "codemirror_mode": {
    "name": "ipython",
    "version": 3
   },
   "file_extension": ".py",
   "mimetype": "text/x-python",
   "name": "python",
   "nbconvert_exporter": "python",
   "pygments_lexer": "ipython3",
   "version": "3.11.9"
  }
 },
 "nbformat": 4,
 "nbformat_minor": 5
}
