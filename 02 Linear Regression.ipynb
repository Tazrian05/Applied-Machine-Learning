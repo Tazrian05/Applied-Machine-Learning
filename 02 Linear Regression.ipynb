{
 "cells": [
  {
   "cell_type": "markdown",
   "metadata": {
    "id": "rHLcriKWLRe4"
   },
   "source": [
    "# Assignement 2"
   ]
  },
  {
   "cell_type": "markdown",
   "metadata": {},
   "source": [
    "### <span style=\"color:chocolate\"> Submission requirements </span>\n",
    "\n",
    "Your homework will not be graded if your notebook doesn't include output. In other words, <span style=\"color:red\"> make sure to rerun your notebook before submitting to Gradescope </span> (Note: if you are using Google Colab: go to Edit > Notebook Settings  and uncheck Omit code cell output when saving this notebook, otherwise the output is not printed).\n",
    "\n",
    "Additional points may be deducted if these requirements are not met:\n",
    "    \n",
    "* Comment your code;\n",
    "* Each graph should have a title, labels for each axis, and (if needed) a legend. Each graph should be understandable on its own;\n",
    "* Try and minimize the use of the global namespace (meaning, keep things inside functions).\n",
    "---"
   ]
  },
  {
   "cell_type": "markdown",
   "metadata": {},
   "source": [
    "### Import libraries"
   ]
  },
  {
   "cell_type": "code",
   "execution_count": 1,
   "metadata": {
    "id": "7X58hOMTUH-w"
   },
   "outputs": [],
   "source": [
    "import numpy as np\n",
    "from sklearn.model_selection import train_test_split\n",
    "from sklearn.metrics import mean_squared_error\n",
    "import matplotlib.pyplot as plt"
   ]
  },
  {
   "cell_type": "markdown",
   "metadata": {},
   "source": [
    "### Define functions"
   ]
  },
  {
   "cell_type": "code",
   "execution_count": 2,
   "metadata": {},
   "outputs": [],
   "source": [
    "def create_1d_data(num_examples, w, b, bound):\n",
    "  \"\"\"Create X, Y data with a linear relationship with added noise.\n",
    "\n",
    "  Args:\n",
    "    num_examples: number of examples to generate\n",
    "    w: desired slope\n",
    "    b: desired intercept\n",
    "    bound: lower and upper boundary of the data interval\n",
    "\n",
    "  Returns:\n",
    "    X and Y with shape (num_examples)\n",
    "  \"\"\"\n",
    "  np.random.seed(4)  # consistent random number generation\n",
    "  X = np.arange(num_examples)\n",
    "  deltas = np.random.uniform(low=-bound, high=bound, size=X.shape) # added noise\n",
    "  Y = b + deltas + w * X\n",
    "\n",
    "  return X, Y"
   ]
  },
  {
   "cell_type": "markdown",
   "metadata": {},
   "source": [
    "---\n",
    "### Step 1: Data ingestion"
   ]
  },
  {
   "cell_type": "markdown",
   "metadata": {},
   "source": [
    "Let's start by creating some artificial data using the <span style=\"color:chocolate\">create_1d_data()</span> function defined at the top of the notebook."
   ]
  },
  {
   "cell_type": "code",
   "execution_count": 19,
   "metadata": {
    "id": "6qJg0IiYVJ8U"
   },
   "outputs": [
    {
     "name": "stdout",
     "output_type": "stream",
     "text": [
      "Printing shape of X: (70,)\n",
      "Printing first 10 elements in X: [0 1 2 3 4 5 6 7 8 9]\n",
      "\n",
      "Printing shape of Y: (70,)\n",
      "Printing first 10 elements in Y: [ 1.93405968  3.0944645   5.94536872  7.42963199  9.39545765 10.43217899\n",
      " 13.95254891 14.01246051 16.50596472 18.86958306]\n"
     ]
    }
   ],
   "source": [
    "# Define parameters\n",
    "num_examples = 70\n",
    "w = 2\n",
    "b = 1\n",
    "bound = 1\n",
    "\n",
    "# Create data\n",
    "X, Y = create_1d_data(num_examples, w, b, bound)\n",
    "\n",
    "# Print shapes\n",
    "print('Printing shape of X:', X.shape)\n",
    "print('Printing first 10 elements in X:', X[:10])\n",
    "print('\\nPrinting shape of Y:', Y.shape)\n",
    "print('Printing first 10 elements in Y:', Y[:10])"
   ]
  },
  {
   "cell_type": "markdown",
   "metadata": {
    "id": "8NXo1n9j1LMT"
   },
   "source": [
    "---\n",
    "### Step 2: Data Preprocessing"
   ]
  },
  {
   "cell_type": "markdown",
   "metadata": {},
   "source": [
    "Our objectives here involve adding one more feature to X and creating data partitions."
   ]
  },
  {
   "cell_type": "markdown",
   "metadata": {},
   "source": [
    "### <span style=\"color:chocolate\">Exercise 1:</span> Adding features (10 points)"
   ]
  },
  {
   "cell_type": "markdown",
   "metadata": {},
   "source": [
    "1. Add a column of $1s$ to $X$ (this will serve as an intercept or \"bias\" in our modeling task later on). Note: do not create a new array, just concatenate with the current values;\n",
    "2. Print the shape of the array."
   ]
  },
  {
   "cell_type": "code",
   "execution_count": 20,
   "metadata": {},
   "outputs": [
    {
     "name": "stdout",
     "output_type": "stream",
     "text": [
      "Shape of X: (70, 2)\n",
      "[[1 0]\n",
      " [1 1]\n",
      " [1 2]\n",
      " [1 3]\n",
      " [1 4]]\n"
     ]
    }
   ],
   "source": [
    "# YOUR CODE HERE\n",
    "\n",
    "# Adding a column of ones to X\n",
    "X = np.column_stack((np.ones_like(X), X))\n",
    "\n",
    "# Printing the shape of the resulting array X\n",
    "print(\"Shape of X:\", X.shape)\n",
    "\n",
    "print(X[:5])  # Print the first 5 rows of X"
   ]
  },
  {
   "cell_type": "markdown",
   "metadata": {},
   "source": [
    "### <span style=\"color:chocolate\">Exercise 2:</span> Data splits (10 points)"
   ]
  },
  {
   "cell_type": "markdown",
   "metadata": {},
   "source": [
    "Using the <span style=\"color:chocolate\">train_test_split()</span> method available in scikit-learn:\n",
    "1. Split the (X,Y) data into training and test paritions by setting test_size=0.2 and random_state=1234. All the other arguments of the method are set to default values. Name the resulting arrays X_train, X_test, Y_train, Y_test;\n",
    "2. Print the shape of each array."
   ]
  },
  {
   "cell_type": "code",
   "execution_count": 95,
   "metadata": {},
   "outputs": [
    {
     "name": "stdout",
     "output_type": "stream",
     "text": [
      "Shape of X_train: (56, 2)\n",
      "Shape of X_test: (14, 2)\n",
      "Shape of Y_train: (56,)\n",
      "Shape of Y_test: (14,)\n"
     ]
    }
   ],
   "source": [
    "# YOUR CODE HERE\n",
    "X_train,X_test,Y_train,Y_test = train_test_split(X,Y,test_size=0.2, random_state=1234)\n",
    "\n",
    "print(\"Shape of X_train:\", X_train.shape)\n",
    "print(\"Shape of X_test:\", X_test.shape)\n",
    "print(\"Shape of Y_train:\", Y_train.shape)\n",
    "print(\"Shape of Y_test:\", Y_test.shape)"
   ]
  },
  {
   "cell_type": "markdown",
   "metadata": {},
   "source": [
    "---\n",
    "### Step 3: Exploratory data analysis (EDA)"
   ]
  },
  {
   "cell_type": "markdown",
   "metadata": {},
   "source": [
    "### <span style=\"color:chocolate\">Exercise 3:</span> Plots (10 points)"
   ]
  },
  {
   "cell_type": "markdown",
   "metadata": {},
   "source": [
    "Create a side-by-side histogram for the values in Y_train and X_train. Make sure to include axes name and titles for each subplot."
   ]
  },
  {
   "cell_type": "code",
   "execution_count": 56,
   "metadata": {},
   "outputs": [
    {
     "data": {
      "image/png": "[encoded data removed]",
      "text/plain": [
       "<Figure size 1200x400 with 2 Axes>"
      ]
     },
     "metadata": {},
     "output_type": "display_data"
    }
   ],
   "source": [
    "# YOUR CODE HERE\n",
    "# plt.hist(Y_train, bins=5, alpha=0.5, label='Y_train')\n",
    "# plt.hist(X_train, bins=5, alpha=0.5, label='X_train')\n",
    "# plt.legend(loc='upper right')\n",
    "# plt.show()\n",
    "\n",
    "# Creating a side-by-side histogram for Y_train and the first column of X_train (which is the original X values) using subplots\n",
    "fig, axes = plt.subplots(1, 2, figsize=(12, 4))\n",
    "\n",
    "# Plot histogram for Y_train\n",
    "axes[0].hist(Y_train, bins=35, color='blue', alpha=0.7)\n",
    "axes[0].set_title('Histogram of Y_train')\n",
    "axes[0].set_xlabel('Y_train values')\n",
    "axes[0].set_ylabel('Frequency')\n",
    "\n",
    "# Plotting histogram for the first column of X_train (which is the original X values without the added ones column)\n",
    "axes[1].hist(X_train[:, 1], bins=35, color='orange', alpha=0.7)\n",
    "axes[1].set_title('Histogram of X_train')\n",
    "axes[1].set_xlabel('X_train values')\n",
    "axes[1].set_ylabel('Frequency')\n",
    "\n",
    "# Adjusting layout\n",
    "plt.tight_layout()\n",
    "\n",
    "plt.show()"
   ]
  },
  {
   "cell_type": "markdown",
   "metadata": {},
   "source": [
    "---\n",
    "### Step 4: Modeling"
   ]
  },
  {
   "cell_type": "markdown",
   "metadata": {},
   "source": [
    "Let's start by considering the two models proposed in Assignment 1:\n",
    "1. $M_1(x) = 5+x$ \n",
    "2. $M_2(x) = 1+2x$"
   ]
  },
  {
   "cell_type": "markdown",
   "metadata": {},
   "source": [
    "### <span style=\"color:chocolate\">Exercise 4:</span> Practice with Parameters (10 points)"
   ]
  },
  {
   "cell_type": "markdown",
   "metadata": {},
   "source": [
    "Perform the following computations:\n",
    "\n",
    "1. Use matrix multiplication (np.dot) to create $M_1$ and $M_2$ (as previously defined) to produce vectors of predictions using the X_train data. Call these predictions M1_hat_train, M2_hat_train. Hint: the \"learned\" parameters are alredy provided to you;\n",
    "3. Print the shapes of the predictions to verify that they match the shape of Y_train."
   ]
  },
  {
   "cell_type": "code",
   "execution_count": 57,
   "metadata": {
    "id": "aBEZ_QOX6qOi"
   },
   "outputs": [
    {
     "name": "stdout",
     "output_type": "stream",
     "text": [
      "Shape of Y_train: (56,)\n",
      "Shape of M1_hat_train: (56,)\n",
      "Shape of M2_hat_train: (56,)\n",
      "First 5 predictions of M1_hat_train: [55 70 26 57 50]\n",
      "First 5 predictions of M2_hat_train: [101 131  43 105  91]\n"
     ]
    }
   ],
   "source": [
    "# YOUR CODE HERE\n",
    "#known parameters for both models\n",
    "params_M1 = np.array([5, 1])\n",
    "params_M2 = np.array([1, 2])\n",
    "\n",
    "#Calculating predictions using matrix multiplication\n",
    "M1_hat_train = np.dot(X_train, params_M1)\n",
    "M2_hat_train = np.dot(X_train, params_M2)\n",
    "\n",
    "print(\"Shape of Y_train:\", Y_train.shape)\n",
    "print(\"Shape of M1_hat_train:\", M1_hat_train.shape)\n",
    "print(\"Shape of M2_hat_train:\", M2_hat_train.shape)\n",
    "\n",
    "#First 5 predictions for verification\n",
    "print(\"First 5 predictions of M1_hat_train:\", M1_hat_train[:5])\n",
    "print(\"First 5 predictions of M2_hat_train:\", M2_hat_train[:5])\n"
   ]
  },
  {
   "cell_type": "markdown",
   "metadata": {},
   "source": [
    "### <span style=\"color:chocolate\">Exercise 5:</span> Learn parameters with Gradient Descent (20 points)"
   ]
  },
  {
   "cell_type": "markdown",
   "metadata": {
    "id": "QaXYiTm9ftRf"
   },
   "source": [
    "1. Fill in the <span style=\"color:green\">NotImplemented</span> parts of the <span style=\"color:chocolate\">gradient_descent()</span> function below. Hint: refer to ``02 Linear Regression_helper.ipynb file``;\n",
    "\n",
    "2. Run this function with our artificial (X_train, Y_train) data . Set learning_rate = .0002 and num_epochs = 5. Print out the weights and loss after each epoch. \n",
    "\n",
    "3. Generate a plot with the loss values on the y-axis and the epoch number on the x-axis for visualization. Make sure to include axes name and title."
   ]
  },
  {
   "cell_type": "code",
   "execution_count": null,
   "metadata": {
    "id": "_hP9rzDyFXTg"
   },
   "outputs": [],
   "source": [
    "def gradient_descent(inputs, outputs, learning_rate, num_epochs):\n",
    "  \"\"\"Apply the gradient descent algorithm to learn learn linear regression.\n",
    "\n",
    "  Args:\n",
    "    inputs: A 2-D array where each column is an input feature and each\n",
    "            row is a training example.\n",
    "    outputs: A 1-D array containing the real-valued\n",
    "             label corresponding to the input data in the same row.\n",
    "    learning_rate: The learning rate to use for updates.\n",
    "    num_epochs: The number of passes through the full training data.\n",
    "\n",
    "  Returns:\n",
    "    weights: A 2-D array with the learned weights after each training epoch.\n",
    "    losses: A 1-D array with the loss after each epoch.\n",
    "  \"\"\"\n",
    "  # m = number of examples, n = number of features\n",
    "  m, n = inputs.shape\n",
    "  \n",
    "  # We'll use a vector of size n to store the learned weights and initialize\n",
    "  # all weights to 1. \n",
    "  W = np.ones(n)\n",
    "  \n",
    "  # Keep track of the training loss and weights after each step.\n",
    "  losses = []\n",
    "  weights = []\n",
    "  \n",
    "  for epoch in range(num_epochs):\n",
    "    # Append the old weights to the weights list to keep track of them.\n",
    "    weights.append(W)\n",
    "\n",
    "    # Evaluate the current predictions for the training examples given\n",
    "    # the current estimate of W (you did this in exercise 5). \n",
    "    predictions = NotImplemented\n",
    "    \n",
    "    # Find the difference between the predictions and the actual target\n",
    "    # values.\n",
    "    diff = NotImplemented\n",
    "    \n",
    "    # In standard linear regression, we want to minimize the sum of squared\n",
    "    # differences. Compute the mean squared error loss. Don't bother with the\n",
    "    # 1/2 scaling factor here.\n",
    "    loss = NotImplemented\n",
    "\n",
    "    # Append the loss to the losses list to keep a track of it.\n",
    "    losses.append(loss)\n",
    "    \n",
    "    # Compute the gradient with respect to the loss.\n",
    "    # [Formula (4) in the Gradient Descent Implementation]\n",
    "    gradient = NotImplemented\n",
    "\n",
    "    # Update weights, scaling the gradient by the learning rate.\n",
    "    W = W - learning_rate * gradient\n",
    "      \n",
    "  return np.array(weights), np.array(losses)"
   ]
  },
  {
   "cell_type": "code",
   "execution_count": 67,
   "metadata": {},
   "outputs": [
    {
     "name": "stdout",
     "output_type": "stream",
     "text": [
      "Epoch 1: \n",
      "Weights: [1. 1.]\n",
      "Loss: 1665.3666608648086\n",
      "Epoch 2: \n",
      "Weights: [1.00709394 1.33262886]\n",
      "Loss: 742.4148662596615\n",
      "Epoch 3: \n",
      "Weights: [1.01183193 1.55469157]\n",
      "Loss: 331.0657262384294\n",
      "Epoch 4: \n",
      "Weights: [1.01499708 1.7029404 ]\n",
      "Loss: 147.73208292579974\n",
      "Epoch 5: \n",
      "Weights: [1.01711221 1.80191116]\n",
      "Loss: 66.02235863204444\n"
     ]
    },
    {
     "data": {
      "image/png": "[encoded data removed]",
      "text/plain": [
       "<Figure size 600x300 with 1 Axes>"
      ]
     },
     "metadata": {},
     "output_type": "display_data"
    }
   ],
   "source": [
    "# YOUR CODE HERE\n",
    "def gradient_descent(inputs, outputs, learning_rate, num_epochs):\n",
    "  \"\"\"Apply the gradient descent algorithm to learn learn linear regression.\n",
    "\n",
    "  Args:\n",
    "    inputs: A 2-D array where each column is an input feature and each\n",
    "            row is a training example.\n",
    "    outputs: A 1-D array containing the real-valued\n",
    "             label corresponding to the input data in the same row.\n",
    "    learning_rate: The learning rate to use for updates.\n",
    "    num_epochs: The number of passes through the full training data.\n",
    "\n",
    "  Returns:\n",
    "    weights: A 2-D array with the learned weights after each training epoch.\n",
    "    losses: A 1-D array with the loss after each epoch.\n",
    "  \"\"\"\n",
    "  # m = number of examples, n = number of features\n",
    "  m, n = inputs.shape\n",
    "  \n",
    "  # We'll use a vector of size n to store the learned weights and initialize\n",
    "  # all weights to 1. \n",
    "  W = np.ones(n)\n",
    "  \n",
    "  # Keep track of the training loss and weights after each step.\n",
    "  losses = []\n",
    "  weights = []\n",
    "  \n",
    "  for epoch in range(num_epochs):\n",
    "    # Append the old weights to the weights list to keep track of them.\n",
    "    weights.append(W)\n",
    "\n",
    "    # Evaluate the current predictions for the training examples given\n",
    "    # the current estimate of W (you did this in exercise 5). \n",
    "    predictions = np.dot(inputs,W)\n",
    "    \n",
    "    # Find the difference between the predictions and the actual target\n",
    "    # values.\n",
    "    diff = predictions - outputs\n",
    "    \n",
    "    # In standard linear regression, we want to minimize the sum of squared\n",
    "    # differences. Compute the mean squared error loss. Don't bother with the\n",
    "    # 1/2 scaling factor here.\n",
    "    loss = np.sum(diff**2) / m\n",
    "\n",
    "    # Append the loss to the losses list to keep a track of it.\n",
    "    losses.append(loss)\n",
    "    \n",
    "    # Compute the gradient with respect to the loss.\n",
    "    # [Formula (4) in the Gradient Descent Implementation]\n",
    "    #gradient = np.dot(diff, W) / m\n",
    "    gradient = np.dot(inputs.T, diff) / m\n",
    "\n",
    "    # Update weights, scaling the gradient by the learning rate.\n",
    "    W = W - learning_rate * gradient\n",
    "      \n",
    "  return np.array(weights), np.array(losses)\n",
    "\n",
    "\n",
    "\n",
    "weights, losses = gradient_descent(X_train, Y_train, 0.0002, 5)\n",
    "\n",
    "#to print weights and losses after each epoch\n",
    "for epoch in range(5):\n",
    "  print(f\"Epoch {epoch +1}: \")\n",
    "  print(\"Weights:\", weights[epoch])\n",
    "  print(\"Loss:\", losses[epoch])\n",
    "  \n",
    "\n",
    "plt.figure(figsize=(6, 3))\n",
    "\n",
    "#plotting x-axis from 1 to 5 and losses in y-axis\n",
    "plt.plot(range(1, 6), losses, marker='o', linestyle='-')\n",
    "plt.xlabel('Epoch Number')\n",
    "plt.ylabel('Loss')\n",
    "plt.title('Loss vs. Epoch Number')\n",
    "plt.grid(True)\n",
    "plt.show()\n",
    "  "
   ]
  },
  {
   "cell_type": "markdown",
   "metadata": {},
   "source": [
    "---\n",
    "### Step 5: Hyperparameter tuning"
   ]
  },
  {
   "cell_type": "markdown",
   "metadata": {},
   "source": [
    "Hyperparameter tuning plays an important role in optimizing ML models. One systematically adjusts hyperparameters to find the right balance between model complexity and generalization, ultimately leading to better predictive performance and model effectiveness.\n",
    "\n",
    "Note that hyperparameter tuning is typically performed on **a separate validation dataset**. However, for the purposes of this assignment and based on the ML knowledge you've acquired thus far, we will perform hyperparameter tuning directly on the training data."
   ]
  },
  {
   "cell_type": "markdown",
   "metadata": {},
   "source": [
    "### <span style=\"color:chocolate\">Exercise 6:</span> Tuning hyperparameters (10 points)"
   ]
  },
  {
   "cell_type": "markdown",
   "metadata": {},
   "source": [
    "Answer the following questions:\n",
    "    \n",
    "1. Do you think it would be beneficial to extend the model training in Exercise 5 by increasing the learning rate to 0.02? Justify your answer;\n",
    "\n",
    "2. Restoring to the previous learning_rate = .0002, would you  consider extending the model training in Exercise 5 by increasing the number of epochs to 10? Justify your answer.\n",
    "\n",
    "Note: to support your answers, we recommend the following actions:\n",
    "- create side-by-side subplots to show the loss at each epoch (make sure to include axes name and title), and\n",
    "- print the loss at the last epoch under the following scenarios:\n",
    "    - learning_rate=.0002, num_epochs=5;\n",
    "    - learning_rate=.02, num_epochs=5;\n",
    "    - learning_rate=.0002, num_epochs=10."
   ]
  },
  {
   "cell_type": "code",
   "execution_count": 82,
   "metadata": {},
   "outputs": [
    {
     "name": "stdout",
     "output_type": "stream",
     "text": [
      "Learnig rate: 0.0002, Epoch Number: 5, Last Loss: 66.02235863204444\n",
      "Learnig rate: 0.02, Epoch Number: 5, Last Loss: 1943544404976516.2\n",
      "Learnig rate: 0.0002, Epoch Number: 10, Last Loss: 1.479786682981072\n"
     ]
    },
    {
     "data": {
      "image/png": "[encoded data removed]",
      "text/plain": [
       "<Figure size 600x800 with 3 Axes>"
      ]
     },
     "metadata": {},
     "output_type": "display_data"
    },
    {
     "data": {
      "text/plain": [
       "'It would not be beneficial to extend the learning rate to 0.002 as it can be seen from loss vs epoch graph\\nthat the Loss diverges from epoch 4 to 5.\\nYes, I would increase the number of epoch to 10 with the previous learning rate as it can ve seen that\\nthe loss converges to 1.479'"
      ]
     },
     "execution_count": 82,
     "metadata": {},
     "output_type": "execute_result"
    }
   ],
   "source": [
    "# YOUR CODE HERE\n",
    "#A list called scenarios containing dictionary with learning rates and number of epochs for the three different scenarios\n",
    "scenarios = [\n",
    "    {'learning_rate': 0.0002, 'num_epochs': 5},\n",
    "    {'learning_rate': 0.02, 'num_epochs': 5},\n",
    "    {'learning_rate': 0.0002, 'num_epochs': 10}\n",
    "]\n",
    "\n",
    "#subplots with same x-axis\n",
    "fig, axes = plt.subplots(3, 1, figsize=(6, 8), sharex=True)\n",
    "\n",
    "# Iterating over each scenario\n",
    "for i, scenario in enumerate(scenarios):\n",
    "    learning_rate = scenario['learning_rate']\n",
    "    num_epochs = scenario['num_epochs']\n",
    "    \n",
    "    #gradient descent\n",
    "    weights, losses = gradient_descent(X_train, Y_train, learning_rate, num_epochs)\n",
    "\n",
    "    # Plotting loss values over epochs\n",
    "    axes[i].plot(range(1, num_epochs + 1), losses, marker='o', linestyle='-')\n",
    "    axes[i].set_xlabel('Epoch Number')\n",
    "    axes[i].set_ylabel('Loss')\n",
    "    axes[i].set_title(f'Loss vs. Epoch (Learning Rate: {learning_rate}, Epoch: {num_epochs})')\n",
    "    axes[i].grid(True)\n",
    "\n",
    "    # Printing loss at the last epoch\n",
    "    print(f\"Learnig rate: {learning_rate}, Epoch Number: {num_epochs}, Last Loss: {losses[-1]}\")\n",
    "\n",
    "plt.tight_layout()\n",
    "plt.show()\n",
    "\n",
    "\n",
    "'''It would not be beneficial to extend the learning rate to 0.002 as it can be seen from loss vs epoch graph\n",
    "that the Loss diverges from epoch 4 to 5.\n",
    "Yes, I would increase the number of epoch to 10 with the previous learning rate as it can ve seen that\n",
    "the loss converges to 1.479'''\n"
   ]
  },
  {
   "cell_type": "markdown",
   "metadata": {},
   "source": [
    "### <span style=\"color:chocolate\">Exercise 7:</span> Choosing the best model (10 points)"
   ]
  },
  {
   "cell_type": "markdown",
   "metadata": {},
   "source": [
    "Write down the learned model that you consider most optimal given your answers to the hyperparameter tuning exercise. Call this model $M_3(x)$."
   ]
  },
  {
   "cell_type": "code",
   "execution_count": 90,
   "metadata": {},
   "outputs": [
    {
     "name": "stdout",
     "output_type": "stream",
     "text": [
      "Weights: [1. 1.]\n",
      "Weights: [1.00709394 1.33262886]\n",
      "Weights: [1.01183193 1.55469157]\n",
      "Weights: [1.01499708 1.7029404 ]\n",
      "Weights: [1.01711221 1.80191116]\n",
      "Weights: [1.01852634 1.8679839 ]\n",
      "Weights: [1.01947249 1.91209397]\n",
      "Weights: [1.02010622 1.94154177]\n",
      "Weights: [1.02053137 1.96120106]\n",
      "Weights: [1.02081727 1.97432553]\n"
     ]
    },
    {
     "data": {
      "text/plain": [
       "'The model is:\\nM3(x) = 1.02 + 1.97x1'"
      ]
     },
     "execution_count": 90,
     "metadata": {},
     "output_type": "execute_result"
    }
   ],
   "source": [
    "# YOUR ANSWER HERE\n",
    "weights, losses = gradient_descent(X_train, Y_train, 0.0002, 10)\n",
    "for epoch in range(10):\n",
    "    print(\"Weights:\", weights[epoch])\n",
    "#print(weights)\n",
    "'''The model is:\n",
    "M3(x) = 1.02 + 1.97x1'''\n"
   ]
  },
  {
   "cell_type": "markdown",
   "metadata": {},
   "source": [
    "---\n",
    "### Step 6: Evaluation and Generalization"
   ]
  },
  {
   "cell_type": "markdown",
   "metadata": {},
   "source": [
    "To evaluate our models, we assess their performance based on how closely they fit the available data. In other words, we compare the true value $y$ with the predicted value $\\hat{y}$ for each $x$."
   ]
  },
  {
   "cell_type": "markdown",
   "metadata": {},
   "source": [
    "### <span style=\"color:chocolate\">Exercise 8:</span> Computing MSE (10 points)"
   ]
  },
  {
   "cell_type": "markdown",
   "metadata": {},
   "source": [
    "Assess the performance of the three models ($M_1(x)$, $M_2(x)$, $M_3(x)$) by computing the MSE metric on the training dataset. Hint: you can use the <span style=\"color:chocolate\">mean_squared_error()</span> method available in sklearn.metrics."
   ]
  },
  {
   "cell_type": "code",
   "execution_count": 107,
   "metadata": {},
   "outputs": [
    {
     "name": "stdout",
     "output_type": "stream",
     "text": [
      "MSE for M1: 1397.608983658733\n",
      "MSE for M2: 0.3280557752885262\n",
      "MSE for M3: 1.891693399086605\n",
      "(56,)\n",
      "(56,)\n",
      "(56,)\n"
     ]
    }
   ],
   "source": [
    "# YOUR CODE HERE\n",
    "from sklearn.metrics import mean_squared_error\n",
    "\n",
    "# Define the predictions of each model on the training data\n",
    "# predictions_M1 = 5 + 1 * X_train\n",
    "# predictions_M2 = 1 + 2 * X_train\n",
    "# predictions_M3 = 1.02 + 1.97 * X_train\n",
    "\n",
    "predictions_M1 = 5 + 1 * X_train[:, 1]\n",
    "predictions_M2 = 1 + 2 * X_train[:, 1]\n",
    "predictions_M3 = 1.02 + 1.97 * X_train[:, 1]\n",
    "\n",
    "\n",
    "#MSE for each model\n",
    "mse_M1 = mean_squared_error(Y_train, predictions_M1)\n",
    "mse_M2 = mean_squared_error(Y_train, predictions_M2)\n",
    "mse_M3 = mean_squared_error(Y_train, predictions_M3)\n",
    "\n",
    "print(\"MSE for M1:\", mse_M1)\n",
    "print(\"MSE for M2:\", mse_M2)\n",
    "print(\"MSE for M3:\", mse_M3)\n",
    "\n",
    "#checking shape\n",
    "print(predictions_M1.shape)\n",
    "print(predictions_M2.shape)\n",
    "print(predictions_M3.shape)\n",
    "\n"
   ]
  },
  {
   "cell_type": "markdown",
   "metadata": {},
   "source": [
    "### <span style=\"color:chocolate\">Exercise 9:</span> Generalization (10 points)"
   ]
  },
  {
   "cell_type": "markdown",
   "metadata": {},
   "source": [
    "Which of the three models ($M_1(x)$, $M_2(x)$, $M_3(x)$) demonstrates better generalization ability?"
   ]
  },
  {
   "cell_type": "code",
   "execution_count": 112,
   "metadata": {},
   "outputs": [
    {
     "name": "stdout",
     "output_type": "stream",
     "text": [
      "MSE for M1 with test data: 1113.6003911560044\n",
      "MSE for M2 with test data: 0.2908006971666422\n",
      "MSE for M3 with test data: 1.3724356761095684\n",
      "(14,)\n",
      "(14,)\n",
      "(14,)\n"
     ]
    }
   ],
   "source": [
    "# YOUR CODE HERE\n",
    "predictions_M1_test = 5 + 1 * X_test[:, 1]\n",
    "predictions_M2_test = 1 + 2 * X_test[:, 1]\n",
    "predictions_M3_test = 1.02 + 1.97 * X_test[:, 1]\n",
    "\n",
    "\n",
    "#MSE for each model\n",
    "mse_M1_test = mean_squared_error(Y_test, predictions_M1_test)\n",
    "mse_M2_test = mean_squared_error(Y_test, predictions_M2_test)\n",
    "mse_M3_test = mean_squared_error(Y_test, predictions_M3_test)\n",
    "\n",
    "print(\"MSE for M1 with test data:\", mse_M1_test)\n",
    "print(\"MSE for M2 with test data:\", mse_M2_test)\n",
    "print(\"MSE for M3 with test data:\", mse_M3_test)\n",
    "\n",
    "print(predictions_M1_test.shape)\n",
    "print(predictions_M2_test.shape)\n",
    "print(predictions_M3_test.shape)\n",
    "\n",
    "\n",
    "'''Model 2 shows better generalizational ability as the MSE in test data is 0.29 and the MSE in training data is 0.328. \n",
    "However, Model 3 also shows good generaliational ability with the MSE being 1.37 in test data compared to 1.89 in\n",
    "training data'''"
   ]
  },
  {
   "cell_type": "markdown",
   "metadata": {},
   "source": [
    "----\n",
    "#### <span style=\"color:chocolate\">Bonus question</span> (20 points)"
   ]
  },
  {
   "cell_type": "markdown",
   "metadata": {},
   "source": [
    "1. How does stochastic gradient descent (SGD) differ from the gradient descent (GD) approach implemented in Exercise 5?\n",
    "2. Determine the optimal weights for model $M_3(x)$ using SGD. Does SGD converge more rapidly? Explain the reasons for your answer."
   ]
  },
  {
   "cell_type": "code",
   "execution_count": null,
   "metadata": {},
   "outputs": [],
   "source": [
    "# YOUR ANSWER HERE"
   ]
  },
  {
   "cell_type": "code",
   "execution_count": null,
   "metadata": {},
   "outputs": [],
   "source": [
    "# YOUR CODE HERE"
   ]
  }
 ],
 "metadata": {
  "accelerator": "GPU",
  "colab": {
   "collapsed_sections": [],
   "name": "02 Linear Regression.ipynb",
   "private_outputs": true,
   "provenance": [],
   "toc_visible": true
  },
  "kernelspec": {
   "display_name": "Python 3",
   "language": "python",
   "name": "python3"
  },
  "language_info": {
   "codemirror_mode": {
    "name": "ipython",
    "version": 3
   },
   "file_extension": ".py",
   "mimetype": "text/x-python",
   "name": "python",
   "nbconvert_exporter": "python",
   "pygments_lexer": "ipython3",
   "version": "3.11.9"
  }
 },
 "nbformat": 4,
 "nbformat_minor": 4
}
