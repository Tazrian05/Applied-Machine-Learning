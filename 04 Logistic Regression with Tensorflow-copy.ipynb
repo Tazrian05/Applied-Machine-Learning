{
 "cells": [
  {
   "cell_type": "markdown",
   "metadata": {
    "id": "MKsRDH5ZUdfasdv"
   },
   "source": [
    "# Assignment 4"
   ]
  },
  {
   "cell_type": "markdown",
   "metadata": {},
   "source": [
    "### <span style=\"color:chocolate\"> Submission requirements </span>\n",
    "\n",
    "Your work will not be graded if your notebook doesn't include output. In other words, <span style=\"color:red\"> make sure to rerun your notebook before submitting to Gradescope </span> (Note: if you are using Google Colab: go to Edit > Notebook Settings  and uncheck Omit code cell output when saving this notebook, otherwise the output is not printed).\n",
    "\n",
    "Additional points may be deducted if these requirements are not met:\n",
    "    \n",
    "* Comment your code;\n",
    "* Each graph should have a title, labels for each axis, and (if needed) a legend. Each graph should be understandable on its own;\n",
    "* Try and minimize the use of the global namespace (meaning, keep things inside functions).\n",
    "---"
   ]
  },
  {
   "cell_type": "markdown",
   "metadata": {},
   "source": [
    "### Import libraries"
   ]
  },
  {
   "cell_type": "code",
   "execution_count": 1,
   "metadata": {
    "id": "7X58hOMTUH-w"
   },
   "outputs": [],
   "source": [
    "import numpy as np\n",
    "from matplotlib import pyplot as plt\n",
    "import pandas as pd\n",
    "import seaborn as sns  # for nicer plots\n",
    "sns.set(style=\"darkgrid\")  # default style\n",
    "\n",
    "from sklearn.model_selection import train_test_split\n",
    "from sklearn.metrics import confusion_matrix, ConfusionMatrixDisplay\n",
    "\n",
    "import tensorflow as tf\n",
    "from tensorflow import keras\n",
    "from keras import metrics\n",
    "from keras.datasets import fashion_mnist\n",
    "\n",
    "tf.get_logger().setLevel('INFO')"
   ]
  },
  {
   "cell_type": "markdown",
   "metadata": {},
   "source": [
    "---\n",
    "### Step 1: Data ingestion"
   ]
  },
  {
   "cell_type": "markdown",
   "metadata": {
    "id": "rHLcriKWLRe4"
   },
   "source": [
    "You'll train a binary classifier using the [Fashion MNIST](https://github.com/zalandoresearch/fashion-mnist) dataset. This consists of 70,000 grayscale images (28x28). Each image is associated with 1 of 10 classes. The dataset was split by the creators; there are 60,000 training images and 10,000 test images. Note also that Tensorflow includes a growing [library of datasets](https://www.tensorflow.org/datasets/catalog/overview) and makes it easy to load them in numpy arrays."
   ]
  },
  {
   "cell_type": "code",
   "execution_count": 2,
   "metadata": {},
   "outputs": [],
   "source": [
    "# Load the Fashion MNIST dataset.\n",
    "(X_train, Y_train), (X_test, Y_test) = fashion_mnist.load_data()"
   ]
  },
  {
   "cell_type": "markdown",
   "metadata": {},
   "source": [
    "---\n",
    "### Step 2: Exploratory Data Analysis (EDA)"
   ]
  },
  {
   "cell_type": "markdown",
   "metadata": {},
   "source": [
    "Exploratory Data Analysis (EDA) and Data Preprocessing are often iterative processes that involve going back and forth to refine and improve the quality of data analysis and preparation. However, the specific order can vary depending on the project's requirements. In some cases, starting with EDA, as you see in this assignment, could be more useful, but there is no rigid rule dictating the sequence in all situations."
   ]
  },
  {
   "cell_type": "markdown",
   "metadata": {},
   "source": [
    "### <span style=\"color:chocolate\">Exercise 1:</span> Getting to know your data (5 points)"
   ]
  },
  {
   "cell_type": "markdown",
   "metadata": {
    "id": "load_auto_data_set_code"
   },
   "source": [
    "Complete the following tasks:\n",
    "\n",
    "1. Print the shapes and types of (X_train, Y_train) and (X_test, Y_test). Interpret the shapes (i.e., what do the numbers represent?). Hint: For types use the <span style=\"color:chocolate\">type()</span> function.\n",
    "2. Define a list of strings of class names corresponding to each class in (Y_train, Y_test). Call this list label_names. Hint: Refer to the Fashion MNIST documentation."
   ]
  },
  {
   "cell_type": "code",
   "execution_count": 3,
   "metadata": {},
   "outputs": [
    {
     "name": "stdout",
     "output_type": "stream",
     "text": [
      "Shape of X_train: (60000, 28, 28)\n",
      "Shape of Y_train: (60000,)\n",
      "Shape of X_test: (10000, 28, 28)\n",
      "Shape of Y_test: (10000,)\n",
      "Type of X_train: <class 'numpy.ndarray'>\n",
      "Type of Y_train: <class 'numpy.ndarray'>\n",
      "Type of X_test: <class 'numpy.ndarray'>\n",
      "Type of Y_test: <class 'numpy.ndarray'>\n"
     ]
    }
   ],
   "source": [
    "# YOUR CODE HERE\n",
    "print('Shape of X_train:', X_train.shape)\n",
    "print('Shape of Y_train:', Y_train.shape)\n",
    "print('Shape of X_test:', X_test.shape)\n",
    "print('Shape of Y_test:', Y_test.shape)\n",
    "\n",
    "print('Type of X_train:', type(X_train))\n",
    "print('Type of Y_train:', type(Y_train))\n",
    "print('Type of X_test:', type(X_test))\n",
    "print('Type of Y_test:', type(Y_test))\n",
    "label_names = ['T-shirt/top', 'Trouser', 'Pullover', 'Dress', 'Coat',\n",
    "               'Sandal', 'Shirt', 'Sneaker', 'Bag', 'Ankle boot']"
   ]
  },
  {
   "cell_type": "markdown",
   "metadata": {},
   "source": [
    "### <span style=\"color:chocolate\">Exercise 2:</span> Getting to know your data - cont'd (5 points)"
   ]
  },
  {
   "cell_type": "markdown",
   "metadata": {},
   "source": [
    "Fashion MNIST images have one of 10 possible labels (shown above). "
   ]
  },
  {
   "cell_type": "markdown",
   "metadata": {},
   "source": [
    "Complete the following tasks:\n",
    "\n",
    "1. Display the first 5 images in X_train for each class in Y_train, arranged in a 10x5 grid. Use the label_names list defined above;\n",
    "2. Determine the minimum and maximum pixel values for images in the X_train dataset."
   ]
  },
  {
   "cell_type": "code",
   "execution_count": 4,
   "metadata": {},
   "outputs": [
    {
     "data": {
      "image/png": "[encoded data removed]",
      "text/plain": [
       "<Figure size 1000x1000 with 5 Axes>"
      ]
     },
     "metadata": {},
     "output_type": "display_data"
    },
    {
     "name": "stdout",
     "output_type": "stream",
     "text": [
      "Minimum pixel value in X_train: 0\n",
      "Maximum pixel value in X_train: 255\n"
     ]
    }
   ],
   "source": [
    "# YOUR CODE HERE\n",
    "#The following code was modified from documentation to display 5 images:\n",
    "plt.figure(figsize=(10,10))\n",
    "for i in range(5): # Loop through the first 5 images\n",
    "    plt.subplot(10,5,i+1)  # Create a subplot in a 10x5 grid at position i+1\n",
    "    plt.xticks([]) # Remove x-axis ticks\n",
    "    plt.yticks([]) # Remove y-axis ticks\n",
    "    plt.grid(False) # Disable grid lines\n",
    "    plt.imshow(X_train[i], cmap=plt.cm.binary)  # Display the image\n",
    "    plt.xlabel(label_names[Y_train[i]]) #Retrieves the label for the i-th image from Y_train and uses it to set the x-axis label\n",
    "plt.show()\n",
    "\n",
    "\n",
    "min_pixel = np.min(X_train)\n",
    "max_pixel = np.max(X_train)\n",
    "\n",
    "print(\"Minimum pixel value in X_train:\", min_pixel)\n",
    "print(\"Maximum pixel value in X_train:\", max_pixel)\n"
   ]
  },
  {
   "cell_type": "markdown",
   "metadata": {
    "id": "cZpFxxStzSrP"
   },
   "source": [
    "---\n",
    "### Step 3: Data preprocessing"
   ]
  },
  {
   "cell_type": "markdown",
   "metadata": {},
   "source": [
    "This step is essential for preparing this image data in a format that is suitable for ML algorithms. "
   ]
  },
  {
   "cell_type": "markdown",
   "metadata": {},
   "source": [
    "### <span style=\"color:chocolate\">Exercise 3:</span> Feature preprocessing (5 points)"
   ]
  },
  {
   "cell_type": "markdown",
   "metadata": {},
   "source": [
    "In the previous lab, the input data had just a few features. Here, we treat **every pixel value as a separate feature**, so each input example has 28x28 (784) features!"
   ]
  },
  {
   "cell_type": "markdown",
   "metadata": {},
   "source": [
    "In this exercise, you'll perform the following tasks:\n",
    "\n",
    "1. Normalize the pixel values in both X_train and X_test data so they range between 0 and 1;\n",
    "2. For each image in X_train and X_test, flatten the 2-D 28x28 pixel array to a 1-D array of size 784. Hint: use the <span style=\"color:chocolate\">reshape()</span> method available in NumPy. Note that by doing so you will overwrite the original arrays;\n",
    "3. Pint the shape of X_train and X_test arrays."
   ]
  },
  {
   "cell_type": "code",
   "execution_count": 90,
   "metadata": {},
   "outputs": [
    {
     "name": "stdout",
     "output_type": "stream",
     "text": [
      "Shape of X_train after reshape: (60000, 784)\n",
      "Shape of X_test after reshape: (10000, 784)\n"
     ]
    }
   ],
   "source": [
    "# YOUR CODE HERE\n",
    "X_train = X_train/255.0\n",
    "X_test  = X_test/255.0\n",
    "\n",
    "#Reshape/flatten the datasets using NumPy's reshape method\n",
    "X_train = np.reshape(X_train, (X_train.shape[0], -1))\n",
    "X_test = np.reshape(X_test, (X_test.shape[0], -1))\n",
    "\n",
    "#Print the shapes of the reshaped datasets\n",
    "print('Shape of X_train after reshape:', X_train.shape)\n",
    "print('Shape of X_test after reshape:', X_test.shape)"
   ]
  },
  {
   "cell_type": "markdown",
   "metadata": {},
   "source": [
    "### <span style=\"color:chocolate\">Exercise 4:</span> Label preprocessing (5 points)"
   ]
  },
  {
   "cell_type": "markdown",
   "metadata": {},
   "source": [
    "This assignment involves binary classification. Specifically, the objective is to predict whether an image belongs to the sneaker class (class 7) or not.\n",
    "\n",
    "Therefore, write code so that for each example in (Y_train, Y_test), the outcome variable is represented as follows: \n",
    "* $y=1$, for sneaker class (positive examples), and\n",
    "* $y=0$, for non-sneaker class (negative examples).\n",
    "\n",
    "Note: To avoid \"ValueError: assignment destination is read-only\", first create a copy of the (Y_train, Y_test) data and call the resulting arrays (Y_train, Y_test). Then overwrite the (Y_train, Y_test) arrays to create binary outcomes."
   ]
  },
  {
   "cell_type": "code",
   "execution_count": 91,
   "metadata": {},
   "outputs": [
    {
     "name": "stdout",
     "output_type": "stream",
     "text": [
      "Unique class labels in Y_train before conversion: [0 1 2 3 4 5 6 7 8 9]\n",
      "Unique class labels in Y_test before conversion: [0 1 2 3 4 5 6 7 8 9]\n",
      "Unique class labels in Y_train after conversion: [0 1]\n",
      "Unique class labels in Y_test after conversion: [0 1]\n",
      "Number of positive examples (sneaker class) in train set: 6000\n",
      "Number of negative examples (non-sneaker classes) in train set: 54000\n",
      "Number of positive examples (sneaker class) in test set: 1000\n",
      "Number of negative examples (non-sneaker classes) in test set: 9000\n"
     ]
    }
   ],
   "source": [
    "# Make copies of the original dataset for binary classification task.\n",
    "#Y_train = np.copy(Y_train)\n",
    "#Y_test = np.copy(Y_test)\n",
    "\n",
    "# YOUR CODE HERE\n",
    "fashion_mnist = tf.keras.datasets.fashion_mnist\n",
    "(X_train, Y_train), (X_test, Y_test) = fashion_mnist.load_data()\n",
    "# Make copies of the original dataset for binary classification task.\n",
    "Y_train = np.copy(Y_train)\n",
    "Y_test = np.copy(Y_test)\n",
    "\n",
    "# Checking the unique class labels in the original datasets\n",
    "print(\"Unique class labels in Y_train before conversion:\", np.unique(Y_train))\n",
    "print(\"Unique class labels in Y_test before conversion:\", np.unique(Y_test))\n",
    "\n",
    "# Converting labels to binary: y=1 for sneaker class (class 7), y=0 otherwise\n",
    "Y_train = np.where(Y_train == 7, 1, 0)  # Positive examples (sneaker class)\n",
    "Y_test = np.where(Y_test == 7, 1, 0)    # Positive examples (sneaker class)\n",
    "\n",
    "\n",
    "# Checking the unique class labels in the datasets after conversion\n",
    "print(\"Unique class labels in Y_train after conversion:\", np.unique(Y_train))\n",
    "print(\"Unique class labels in Y_test after conversion:\", np.unique(Y_test))\n",
    "\n",
    "# Checking the counts of positive and negative examples in the train and test set\n",
    "print(\"Number of positive examples (sneaker class) in train set:\", np.sum(Y_train == 1))\n",
    "print(\"Number of negative examples (non-sneaker classes) in train set:\", np.sum(Y_train == 0))\n",
    "\n",
    "print(\"Number of positive examples (sneaker class) in test set:\", np.sum(Y_test == 1))\n",
    "print(\"Number of negative examples (non-sneaker classes) in test set:\", np.sum(Y_test == 0))"
   ]
  },
  {
   "cell_type": "markdown",
   "metadata": {},
   "source": [
    "### <span style=\"color:chocolate\">Exercise 5:</span> Data splits (10 points)"
   ]
  },
  {
   "cell_type": "markdown",
   "metadata": {},
   "source": [
    "Using the <span style=\"color:chocolate\">train_test_split()</span> method available in scikit-learn:\n",
    "1. Retain 20% from the training data for validation purposes. Set random state to 1234. Name the resulting dataframes as follows: X_train_mini, X_val, Y_train_mini, Y_val.\n",
    "2. Print the shape of each array."
   ]
  },
  {
   "cell_type": "code",
   "execution_count": 92,
   "metadata": {},
   "outputs": [
    {
     "name": "stdout",
     "output_type": "stream",
     "text": [
      "Shape of X_train_mini: (48000, 28, 28)\n",
      "Shape of X_val: (12000, 28, 28)\n",
      "Shape of Y_train_mini: (48000,)\n",
      "Shape of Y_val: (12000,)\n"
     ]
    }
   ],
   "source": [
    "# YOUR CODE HERE\n",
    "\n",
    "X_train_mini, X_val, Y_train_mini, Y_val = train_test_split(X_train, Y_train, test_size=0.2, random_state=1234)\n",
    "\n",
    "#Print the shapes of each array\n",
    "print('Shape of X_train_mini:', X_train_mini.shape)\n",
    "print('Shape of X_val:', X_val.shape)\n",
    "print('Shape of Y_train_mini:', Y_train_mini.shape)\n",
    "print('Shape of Y_val:', Y_val.shape)"
   ]
  },
  {
   "cell_type": "markdown",
   "metadata": {},
   "source": [
    "### <span style=\"color:chocolate\">Exercise 6:</span> Data shuffling (10 points)"
   ]
  },
  {
   "cell_type": "markdown",
   "metadata": {},
   "source": [
    "Since you'll be using Batch Gradient Descent (BGD) for training, it is important that **each batch is a random sample of the data** so that the gradient computed is representative. \n",
    "\n",
    "1. Use [integer array indexing](https://numpy.org/doc/stable/reference/arrays.indexing.html#integer-array-indexing) to re-order (X_train_mini, Y_train_mini) using a list of shuffled indices. In doing so, you will overwrite the arrays."
   ]
  },
  {
   "cell_type": "code",
   "execution_count": 93,
   "metadata": {},
   "outputs": [
    {
     "name": "stdout",
     "output_type": "stream",
     "text": [
      "(48000,)\n"
     ]
    }
   ],
   "source": [
    "np.random.seed(0)\n",
    "# YOUR CODE HERE\n",
    "\n",
    "shuffled_indices = np.random.permutation(range(len(Y_train_mini)))\n",
    "X_train_mini = X_train_mini[shuffled_indices]\n",
    "Y_train_mini = Y_train_mini[shuffled_indices]\n",
    "\n",
    "print(Y_train_mini.shape)\n",
    "\n"
   ]
  },
  {
   "cell_type": "markdown",
   "metadata": {},
   "source": [
    "---\n",
    "### Step 4: Exploratory Data Analysis (EDA) - cont'd"
   ]
  },
  {
   "cell_type": "markdown",
   "metadata": {},
   "source": [
    "Before delving into model training, let's further explore the raw feature values by comparing sneaker and non-sneaker training images."
   ]
  },
  {
   "cell_type": "markdown",
   "metadata": {},
   "source": [
    "### <span style=\"color:chocolate\">Exercise 7:</span> Pixel distributions (10 points)"
   ]
  },
  {
   "cell_type": "markdown",
   "metadata": {},
   "source": [
    "1. Identify all sneaker images in X_train_mini and calculate the mean pixel value for each sneaker image. Visualize these pixel values using a histogram. Print the mean pixel value across all sneaker images.\n",
    "2. Identify all non-sneaker images in X_train_mini and calculate the mean pixel value for each non-sneaker image. Visualize these pixel values using a histogram. Print the mean pixel value across all non-sneaker images.\n",
    "3. Based on the histogram results, assess whether there is any evidence suggesting that pixel values can be utilized to distinguish between sneaker and non-sneaker images. Justify your response.\n",
    "\n",
    "Notes: Make sure to provide a descriptive title and axis labels for each histogran. Make sure you utilize Y_train_mini to locate the sneaker and non-sneaker class."
   ]
  },
  {
   "cell_type": "code",
   "execution_count": 94,
   "metadata": {},
   "outputs": [
    {
     "data": {
      "image/png": "[encoded data removed]",
      "text/plain": [
       "<Figure size 640x480 with 1 Axes>"
      ]
     },
     "metadata": {},
     "output_type": "display_data"
    },
    {
     "data": {
      "image/png": "[encoded data removed]",
      "text/plain": [
       "<Figure size 640x480 with 1 Axes>"
      ]
     },
     "metadata": {},
     "output_type": "display_data"
    },
    {
     "data": {
      "text/plain": [
       "'The mean pixel values for each sneaker image is distinctly different from those of non-sneaker images as their\\nwhich means that there is significant difference in mean values between sneaker and non-sneaker images. So, \\npixel values can be utilized to distinguish between the two classes.'"
      ]
     },
     "execution_count": 94,
     "metadata": {},
     "output_type": "execute_result"
    }
   ],
   "source": [
    "# YOUR CODE HERE\n",
    "# Identifing sneaker images\n",
    "sneaker_indices = np.where(Y_train_mini == 1)[0]\n",
    "sneaker_images = X_train_mini[sneaker_indices]\n",
    "\n",
    "# Calculate mean pixel values for each sneaker image\n",
    "mean_pixel_sneaker = np.mean(sneaker_images, axis=(1, 2))\n",
    "\n",
    "plt.hist(mean_pixel_sneaker,bins=30, edgecolor='k', alpha=0.7)\n",
    "plt.title('Histogram of Mean Pixel Values for Sneaker Images')\n",
    "plt.xlabel('Mean Pixel Value')\n",
    "plt.ylabel('Frequency')\n",
    "plt.show()\n",
    "\n",
    "#identifying non-sneaker images\n",
    "non_sneaker_indices = np.where(Y_train_mini == 0)[0]\n",
    "non_sneaker_images = X_train_mini[non_sneaker_indices]\n",
    "\n",
    "# Calculating mean pixel values for each non-sneaker image\n",
    "mean_pixel_non_sneaker = np.mean(non_sneaker_images, axis=(1, 2))\n",
    "\n",
    "plt.hist(mean_pixel_non_sneaker,bins=30, edgecolor='k', alpha=0.7)\n",
    "plt.title('Histogram of Mean Pixel Values for Non-Sneaker Images')\n",
    "plt.xlabel('Mean Pixel Value')\n",
    "plt.ylabel('Frequency')\n",
    "plt.show()\n",
    "\n",
    "'''The mean pixel values for each sneaker image is distinctly different from those of non-sneaker images as their\n",
    "which means that there is significant difference in mean values between sneaker and non-sneaker images. So, \n",
    "pixel values can be utilized to distinguish between the two classes.'''\n",
    "\n"
   ]
  },
  {
   "cell_type": "markdown",
   "metadata": {},
   "source": [
    "---\n",
    "### Step 4: Modeling"
   ]
  },
  {
   "cell_type": "markdown",
   "metadata": {},
   "source": [
    "### <span style=\"color:chocolate\">Exercise 8:</span> Baseline model (10 points)"
   ]
  },
  {
   "cell_type": "markdown",
   "metadata": {
    "id": "TGgQ-ASYiHbK"
   },
   "source": [
    "When dealing with classification problems, a simple baseline is to select the *majority* class (the most common label in the training set) and use it as the prediction for all inputs.\n",
    "\n",
    "With this information in mind:\n",
    "\n",
    "1. What is the number of sneaker images in Y_train_mini?\n",
    "2. What is the number of non-sneaker images in Y_train_mini?\n",
    "3. What is the majority class in Y_train_mini?\n",
    "4. What is the accuracy of a majority class classifier for Y_train_mini?\n",
    "5. Implement a function that computes the Log Loss (binary cross-entropy) metric and use it to evaluate this baseline on both the mini train (Y_train_mini) and validation (Y_val) data. Use 0.1 as the predicted probability for your baseline (reflecting what we know about the original distribution of classes in the mini training data). Hint: for additional help, see the file ``04 Logistic Regression with Tensorflow_helpers.ipynb``."
   ]
  },
  {
   "cell_type": "code",
   "execution_count": 122,
   "metadata": {},
   "outputs": [
    {
     "name": "stdout",
     "output_type": "stream",
     "text": [
      "Number of sneaker images in Y_train_mini: 4800\n",
      "Number of non-sneaker images in Y_train_mini: 43200\n",
      "Accuracy of the majority class for Y_train_mini: 0.9\n",
      "Cross-entropy loss in mini train data set: 0.6931471805599454\n",
      "Cross-entropy loss in Y_val data set: 0.6931471805599452\n"
     ]
    }
   ],
   "source": [
    "# YOUR CODE HERE\n",
    "\n",
    "num_sneakers = np.sum(Y_train_mini == 1)\n",
    "num_non_sneakers = np.sum(Y_train_mini == 0)\n",
    "print('Number of sneaker images in Y_train_mini:', num_sneakers)\n",
    "print('Number of non-sneaker images in Y_train_mini:', num_non_sneakers)\n",
    "\n",
    "'''Non-sneaker class is the majority in Y_train_mini'''\n",
    "\n",
    "#Calculating the accuracy of the majority class\n",
    "accuracy_majority_class = num_non_sneakers/(num_non_sneakers+num_sneakers)\n",
    "\n",
    "#Printing the accuracy\n",
    "print(\"Accuracy of the majority class for Y_train_mini:\", accuracy_majority_class)\n",
    "\n",
    "\n",
    "\n",
    "def softmax(z):\n",
    "    #Subtracting the maximum value from each row of z for numerical stability\n",
    "    z -= np.max(z, axis=1, keepdims=True)\n",
    "    \n",
    "    # Computing the exponentials of the adjusted values\n",
    "    exps = np.exp(z)\n",
    "    \n",
    "    #Normalizing the exponentials\n",
    "    row_sums = np.sum(exps, axis=1, keepdims=True)\n",
    "    probs = exps / row_sums\n",
    "    \n",
    "    return probs\n",
    "\n",
    "\n",
    "\n",
    "def ce_loss(preds, Y):\n",
    "    m = Y.shape[0]\n",
    "    cross_entropy_values = - np.sum(Y * np.log(preds), axis=1)\n",
    "    loss = np.sum(cross_entropy_values) / m\n",
    "    return loss\n",
    "\n",
    "# Reshape X_train_mini\n",
    "X_train_mini_flat = X_train_mini.reshape(X_train_mini.shape[0], -1)\n",
    "\n",
    "#Computing predictions for training data\n",
    "W = np.ones((X_train_mini_flat.shape[1], 2))  # Weight matrix for two output classes\n",
    "preds = softmax(np.dot(X_train_mini_flat, W))\n",
    "\n",
    "#Converting true labels to one-hot encoding\n",
    "Y_train_mini_onehot = np.eye(2)[Y_train_mini]\n",
    "\n",
    "#Computing cross-entropy loss\n",
    "loss_train_mini = ce_loss(preds, Y_train_mini_onehot)\n",
    "print(\"Cross-entropy loss in mini train data set:\", loss_train_mini)\n",
    "\n",
    "\n",
    "\n",
    "#Reshaping X_train_mini\n",
    "X_val_flat = X_val.reshape(X_val.shape[0], -1)\n",
    "W_val = np.ones((X_val_flat.shape[1], 2))  # Weight matrix for two output classes\n",
    "preds_val = softmax(np.dot(X_val_flat, W_val))\n",
    "\n",
    "#Converting true labels to one-hot encoding\n",
    "Y_val_onehot = np.eye(2)[Y_val]\n",
    "\n",
    "# Computing cross-entropy loss\n",
    "loss_val = ce_loss(preds_val, Y_val_onehot)\n",
    "print(\"Cross-entropy loss in Y_val data set:\", loss_val)\n",
    "\n"
   ]
  },
  {
   "cell_type": "markdown",
   "metadata": {},
   "source": [
    "### <span style=\"color:chocolate\">Exercise 9:</span> Improvement over Baseline with TensorFlow (10 points)"
   ]
  },
  {
   "cell_type": "markdown",
   "metadata": {},
   "source": [
    "Let's use TensorFlow to train a binary logistic regression model much like you did in the previous assignment. The goal here is to build a ML model to improve over the baseline classifier.\n",
    "\n",
    "1. Fill in the <span style=\"color:green\">NotImplemented</span> parts of the build_model() function below by following the instructions provided as comments. Hint: the activation function, the loss, and the evaluation metric are different compared to the linear regression model;\n",
    "2. Build and compile a model using the build_model() function and the (X_train_mini, Y_train_mini) data. Set learning_rate = 0.0001. Call the resulting object *model_tf*.\n",
    "3. Train *model_tf* using the (X_train_mini, Y_train_mini) data. Set num_epochs = 5 and batch_size=32. Pass the (X_val, Y_val) data for validation. Hint: see the documentation behind the [tf.keras.Model.fit()](https://bcourses.berkeley.edu/courses/1534588/files/88733489?module_item_id=17073646) method.\n",
    "3. Generate a plot (for the mini training and validation data) with the loss values on the y-axis and the epoch number on the x-axis for visualization. Make sure to include axes name and title. Hint: check what the [tf.keras.Model.fit()](https://bcourses.berkeley.edu/courses/1534588/files/88733489?module_item_id=17073646) method returns."
   ]
  },
  {
   "cell_type": "code",
   "execution_count": 96,
   "metadata": {},
   "outputs": [],
   "source": [
    "def build_model(num_features, learning_rate):\n",
    "  \"\"\"Build a TF linear regression model using Keras.\n",
    "\n",
    "  Args:\n",
    "    num_features: The number of input features.\n",
    "    learning_rate: The desired learning rate for SGD.\n",
    "\n",
    "  Returns:\n",
    "    model: A tf.keras model (graph).\n",
    "  \"\"\"\n",
    "  # This is not strictly necessary, but each time you build a model, TF adds\n",
    "  # new nodes (rather than overwriting), so the colab session can end up\n",
    "  # storing lots of copies of the graph when you only care about the most\n",
    "  # recent. Also, as there is some randomness built into training with SGD,\n",
    "  # setting a random seed ensures that results are the same on each identical\n",
    "  # training run.\n",
    "  tf.keras.backend.clear_session()\n",
    "  tf.random.set_seed(0)\n",
    "\n",
    "  # Build a model using keras.Sequential. While this is intended for neural\n",
    "  # networks (which may have multiple layers), we want just a single layer for\n",
    "  # binary logistic regression.\n",
    "  model = tf.keras.Sequential()\n",
    "  model.add(tf.keras.layers.Dense(\n",
    "      units= 1,        # output dim\n",
    "      input_shape= (num_features,),  # input dim\n",
    "      use_bias=True,               # use a bias (intercept) param\n",
    "      activation='softmax',\n",
    "      kernel_initializer= tf.ones_initializer,  # initialize params to 1\n",
    "      bias_initializer= tf.ones_initializer,    # initialize bias to 1\n",
    "  ))\n",
    "\n",
    "  # We need to choose an optimizer. We'll use SGD, which is actually mini-batch SGD\n",
    "  optimizer = tf.keras.optimizers.SGD(learning_rate=learning_rate)\n",
    "\n",
    "  # Finally, compile the model. Select the accuracy metric. This finalizes the graph for training.\n",
    "  model.compile(optimizer=optimizer,\n",
    "              loss='binary_crossentropy',\n",
    "              metrics=['accuracy'])\n",
    "    \n",
    "  return model\n"
   ]
  },
  {
   "cell_type": "code",
   "execution_count": 107,
   "metadata": {},
   "outputs": [
    {
     "name": "stdout",
     "output_type": "stream",
     "text": [
      "\u001b[1m1500/1500\u001b[0m \u001b[32m━━━━━━━━━━━━━━━━━━━━\u001b[0m\u001b[37m\u001b[0m \u001b[1m1s\u001b[0m 817us/step\n",
      "Epoch 1/5\n",
      "\u001b[1m1500/1500\u001b[0m \u001b[32m━━━━━━━━━━━━━━━━━━━━\u001b[0m\u001b[37m\u001b[0m \u001b[1m3s\u001b[0m 1ms/step - accuracy: 0.1017 - loss: 208.5961 - val_accuracy: 0.1000 - val_loss: 199.9825\n",
      "Epoch 2/5\n",
      "\u001b[1m1500/1500\u001b[0m \u001b[32m━━━━━━━━━━━━━━━━━━━━\u001b[0m\u001b[37m\u001b[0m \u001b[1m2s\u001b[0m 2ms/step - accuracy: 0.1017 - loss: 196.0804 - val_accuracy: 0.1000 - val_loss: 187.4252\n",
      "Epoch 3/5\n",
      "\u001b[1m1500/1500\u001b[0m \u001b[32m━━━━━━━━━━━━━━━━━━━━\u001b[0m\u001b[37m\u001b[0m \u001b[1m2s\u001b[0m 2ms/step - accuracy: 0.1017 - loss: 183.5648 - val_accuracy: 0.1000 - val_loss: 174.8680\n",
      "Epoch 4/5\n",
      "\u001b[1m1500/1500\u001b[0m \u001b[32m━━━━━━━━━━━━━━━━━━━━\u001b[0m\u001b[37m\u001b[0m \u001b[1m2s\u001b[0m 1ms/step - accuracy: 0.1017 - loss: 171.0492 - val_accuracy: 0.1000 - val_loss: 162.3107\n",
      "Epoch 5/5\n",
      "\u001b[1m1500/1500\u001b[0m \u001b[32m━━━━━━━━━━━━━━━━━━━━\u001b[0m\u001b[37m\u001b[0m \u001b[1m2s\u001b[0m 1ms/step - accuracy: 0.1017 - loss: 158.5334 - val_accuracy: 0.1000 - val_loss: 149.7533\n"
     ]
    }
   ],
   "source": [
    "tf.random.set_seed(0)\n",
    "# 2. Build and compile model\n",
    "# YOUR CODE HERE\n",
    "\n",
    "# Normalize the data\n",
    "X_train_normal = X_train_mini / 255.0\n",
    "X_val_normal = X_val / 255.0\n",
    "\n",
    "# Flatten the input data\n",
    "X_train_flat = X_train_normal.reshape(X_train_normal.shape[0], -1)\n",
    "X_val_flat = X_val_normal.reshape(X_val_normal.shape[0], -1)\n",
    "\n",
    "# Define the number of input features and learning rate\n",
    "num_features = X_train_flat.shape[1]\n",
    "learning_rate = 0.0001\n",
    "\n",
    "model_tf = build_model(num_features, learning_rate)\n",
    "\n",
    "\n",
    "# 3. Fit the model\n",
    "# YOUR CODE HERE\n",
    "\n",
    "# Get predictions for the current model\n",
    "preds = model_tf.predict(X_train_flat)\n",
    "\n",
    "# Fit the model\n",
    "history = model_tf.fit(\n",
    "    x=X_train_flat,\n",
    "    y=Y_train_mini,\n",
    "    epochs=5,\n",
    "    batch_size=32,\n",
    "    validation_data=(X_val_flat, Y_val),\n",
    "    verbose=1)\n"
   ]
  },
  {
   "cell_type": "code",
   "execution_count": 109,
   "metadata": {},
   "outputs": [
    {
     "data": {
      "image/png": "[encoded data removed]",
      "text/plain": [
       "<Figure size 640x480 with 1 Axes>"
      ]
     },
     "metadata": {},
     "output_type": "display_data"
    }
   ],
   "source": [
    "# 4. Generate a plot\n",
    "\n",
    "# Getting loss values for training and validation sets\n",
    "train_loss = history.history['loss']\n",
    "val_loss = history.history['val_loss']\n",
    "\n",
    "# Creating x-axis values (epochs)\n",
    "epochs = range(1, len(train_loss) + 1)\n",
    "\n",
    "plt.plot(epochs, train_loss, 'b', label='Training loss')\n",
    "plt.plot(epochs, val_loss, 'r', label='Validation loss')\n",
    "\n",
    "plt.title('Training and Validation Loss')\n",
    "plt.xlabel('Epochs')\n",
    "plt.ylabel('Loss')\n",
    "plt.legend()\n",
    "plt.show()\n"
   ]
  },
  {
   "cell_type": "markdown",
   "metadata": {},
   "source": [
    "---\n",
    "### Step 5: Hyperparameter tuning"
   ]
  },
  {
   "cell_type": "markdown",
   "metadata": {},
   "source": [
    "Hyperparameter tuning is a crucial step in optimizing ML models. It involves systematically adjusting hyperparameters such as learning rate, number of epochs, and optimizer to find the model configuration that leads to the best generalization performance.\n",
    "\n",
    "This tuning process is typically conducted by monitoring the model's performance on the validation vs. training set. It's important to note that using the test set for hyperparameter tuning can compromise the integrity of the evaluation process by violating the assumption of \"blindness\" of the test data."
   ]
  },
  {
   "cell_type": "markdown",
   "metadata": {},
   "source": [
    "### <span style=\"color:chocolate\">Exercise 10:</span> Hyperparameter tuning (10 points)"
   ]
  },
  {
   "cell_type": "markdown",
   "metadata": {},
   "source": [
    "1. Fine-tune the hyperparameters of *model_tf* to determine the setup that yields the most optimal performance. Feel free to explore various values for the hyperparameters. Hint: ask your instructors and TAs for help if in doubt.\n",
    "\n",
    "After identifying your preferred model configuration, print the following information:\n",
    "\n",
    "2. The first five learned parameters of the model (this should include the bias term);\n",
    "3. The loss at the final epoch on both the mini training and validation datasets;\n",
    "4. The percentage difference between the losses observed on the mini training and validation datasets.\n",
    "5. Compare the training/validation loss of the TensorFlow model (model_tf) with the baseline model's loss. Does the TensorFlow model demonstrate an improvement over the baseline model?\n",
    "\n",
    "\n",
    "Please note that we will consider 'optimal model configuration' any last-epoch loss that is below 0.08."
   ]
  },
  {
   "cell_type": "code",
   "execution_count": 118,
   "metadata": {},
   "outputs": [
    {
     "name": "stdout",
     "output_type": "stream",
     "text": [
      "Learning rate: 0.01, Batch size: 64, Final training loss: 0.12319072335958481, Final validation loss: 0.11906472593545914\n",
      "First five learned parameters of the model:\n",
      "[[0.9998646]\n",
      " [0.9995394]\n",
      " [0.9973158]\n",
      " [0.9906202]\n",
      " [0.9773853]]\n",
      "Loss at the final epoch on mini training dataset: 0.12319072335958481\n",
      "Loss at the final epoch on validation dataset: 0.11906472593545914\n",
      "Percentage difference between losses on mini training and validation datasets: 3.4653398743488744%\n",
      "Baseline model's loss on mini training dataset: 0.0\n",
      "Baseline model's loss on validation dataset: 0.6931471805599452\n",
      "The TensorFlow model demonstrates an improvement over the baseline model.\n"
     ]
    }
   ],
   "source": [
    "# YOUR CODE HERE\n",
    "# Define a function to build and compile the model with customizable hyperparameters\n",
    "def build_and_compile_model(num_features, learning_rate):\n",
    "    model = build_model(num_features, learning_rate)\n",
    "    return model\n",
    "\n",
    "# Define a function to train the model with customizable hyperparameters\n",
    "def train_model(model, X_train, Y_train, X_val, Y_val, num_epochs, batch_size):\n",
    "    history = model.fit(\n",
    "        x=X_train,\n",
    "        y=Y_train,\n",
    "        epochs=num_epochs,\n",
    "        batch_size=batch_size,\n",
    "        validation_data=(X_val, Y_val),\n",
    "        verbose=0  # Set verbose to 0 for no output during training\n",
    "    )\n",
    "    return history\n",
    "\n",
    "# Define hyperparameters to explore\n",
    "learning_rates = [0.01]  \n",
    "num_epochs = 20  \n",
    "batch_sizes = [64]  \n",
    "\n",
    "best_model = None\n",
    "best_loss_val = float('inf')\n",
    "\n",
    "# Looping over hyperparameters\n",
    "for lr in learning_rates:\n",
    "    for batch_size in batch_sizes:\n",
    "        # Build and compile the model\n",
    "        model_tf = build_and_compile_model(num_features, lr)\n",
    "        \n",
    "        # Train the model\n",
    "        history = train_model(model_tf, X_train_flat, Y_train_mini, X_val_flat, Y_val, num_epochs, batch_size)\n",
    "        \n",
    "        # Get the loss at the final epoch on both mini training and validation datasets\n",
    "        loss_train_final = history.history['loss'][-1]\n",
    "        loss_val_final = history.history['val_loss'][-1]\n",
    "        \n",
    "        # Print the losses for monitoring\n",
    "        print(f'Learning rate: {lr}, Batch size: {batch_size}, Final training loss: {loss_train_final}, Final validation loss: {loss_val_final}')\n",
    "        \n",
    "        # Check if this model configuration yields the most optimal performance\n",
    "        if loss_val_final < best_loss_val:\n",
    "            best_loss_val = loss_val_final\n",
    "            best_model = model_tf\n",
    "\n",
    "# Printing  the first five learned parameters of the model\n",
    "first_five_params = best_model.get_weights()[0][:5]\n",
    "print(\"First five learned parameters of the model:\")\n",
    "print(first_five_params)\n",
    "\n",
    "# Printing the loss at the final epoch on both the mini training and validation datasets\n",
    "print(f\"Loss at the final epoch on mini training dataset: {loss_train_final}\")\n",
    "print(f\"Loss at the final epoch on validation dataset: {loss_val_final}\")\n",
    "\n",
    "# Compute the percentage difference between the losses observed on the mini training and validation datasets\n",
    "percentage_difference = ((loss_train_final - loss_val_final) / loss_val_final) * 100\n",
    "print(f\"Percentage difference between losses on mini training and validation datasets: {percentage_difference}%\")\n",
    "\n",
    "# Comparing the training/validation loss of the TensorFlow model with the baseline model's loss\n",
    "# Computing the baseline model's loss using ce_loss function\n",
    "baseline_loss_train = ce_loss(preds, Y_train_mini)\n",
    "baseline_loss_val = ce_loss(preds_val, Y_val_onehot)\n",
    "print(f\"Baseline model's loss on mini training dataset: {baseline_loss_train}\")\n",
    "print(f\"Baseline model's loss on validation dataset: {baseline_loss_val}\")\n",
    "\n",
    "# Compare the losses\n",
    "if loss_val_final < baseline_loss_val:\n",
    "    print(\"The TensorFlow model demonstrates an improvement over the baseline model.\")\n",
    "else:\n",
    "    print(\"The TensorFlow model does not demonstrate an improvement over the baseline model.\")\n"
   ]
  },
  {
   "cell_type": "markdown",
   "metadata": {},
   "source": [
    "---\n",
    "### Step 6: Evaluation and Generalization"
   ]
  },
  {
   "cell_type": "markdown",
   "metadata": {},
   "source": [
    "\n",
    "Now that you've determined the optimal set of hyperparameters, it's time to evaluate your optimized model on the test data to gauge its performance in real-world scenarios, commonly known as inference."
   ]
  },
  {
   "cell_type": "markdown",
   "metadata": {},
   "source": [
    "### <span style=\"color:chocolate\">Exercise 11:</span> Computing accuracy (10 points)"
   ]
  },
  {
   "cell_type": "markdown",
   "metadata": {},
   "source": [
    "1. Calculate aggregate accuracy on both mini train and test datasets using a probability threshold of 0.5. Hint: You can utilize the <span style=\"color:chocolate\">model.evaluate()</span> method provided by tf.keras. Note: Aggregate accuracy measures the overall correctness of the model across all classes in the dataset;\n",
    "\n",
    "2. Does the model demonstrate strong aggregate generalization capabilities? Provide an explanation based on your accuracy observations."
   ]
  },
  {
   "cell_type": "code",
   "execution_count": 124,
   "metadata": {},
   "outputs": [
    {
     "name": "stdout",
     "output_type": "stream",
     "text": [
      "Aggregate accuracy on mini train dataset: 0.10000000149011612\n",
      "Aggregate accuracy on test dataset: 0.10000000149011612\n"
     ]
    }
   ],
   "source": [
    "# YOUR CODE HERE\n",
    "# Define the hyperparameters\n",
    "learning_rate = 0.001\n",
    "batch_size = 64\n",
    "num_epochs = 20\n",
    "\n",
    "# Normalize the test data\n",
    "X_test_normal = X_test / 255.0\n",
    "\n",
    "# Flatten the input data\n",
    "X_test_flat = X_test_normal.reshape(X_test_normal.shape[0], -1)\n",
    "\n",
    "\n",
    "# Evaluating the model on mini train dataset\n",
    "train_loss, train_accuracy = model_tf.evaluate(X_train_flat, Y_train_mini, verbose=0)\n",
    "print(\"Aggregate accuracy on mini train dataset:\", train_accuracy)\n",
    "\n",
    "# Evaluating the model on test dataset\n",
    "test_loss, test_accuracy = model_tf.evaluate(X_test_flat, Y_test, verbose=0)\n",
    "print(\"Aggregate accuracy on test dataset:\", test_accuracy)\n"
   ]
  },
  {
   "cell_type": "markdown",
   "metadata": {},
   "source": [
    "----\n",
    "### <span style=\"color:chocolate\">Bonus question</span> (20 points)"
   ]
  },
  {
   "cell_type": "markdown",
   "metadata": {},
   "source": [
    "Is it possible to enhance the prediction accuracy for the sneaker class by performing the following steps?\n",
    "\n",
    "1. Implement data balancing techniques, such as oversampling or undersampling, to equalize the representation of both classes.\n",
    "2. After balancing the data, retrain the model on the balanced dataset.\n",
    "3. Evaluate the model's performance, particularly focusing on the accuracy achieved for the sneaker class.\n",
    "\n",
    "Note: provide a separate notebook for the Bonus exercise. Name it ``04 Logistic Regression with Tensorflow_bonus``."
   ]
  }
 ],
 "metadata": {
  "colab": {
   "collapsed_sections": [
    "copyright",
    "LOcjWKAljbqr",
    "bCBT54r7k2YL",
    "loqjuOZFlEdt"
   ],
   "name": "04 Logistic Regression with Tensorflow.ipynb",
   "private_outputs": true,
   "provenance": [],
   "toc_visible": true
  },
  "kernelspec": {
   "display_name": "Python 3",
   "language": "python",
   "name": "python3"
  },
  "language_info": {
   "codemirror_mode": {
    "name": "ipython",
    "version": 3
   },
   "file_extension": ".py",
   "mimetype": "text/x-python",
   "name": "python",
   "nbconvert_exporter": "python",
   "pygments_lexer": "ipython3",
   "version": "3.11.9"
  }
 },
 "nbformat": 4,
 "nbformat_minor": 4
}
